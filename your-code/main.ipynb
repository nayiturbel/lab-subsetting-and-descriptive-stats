{
 "cells": [
  {
   "cell_type": "markdown",
   "metadata": {},
   "source": [
    "# Before you start :\n",
    "   - These exercises are related to the Subsetting and Descriptive Stats lessons.\n",
    "   - Keep in mind that you need to use some of the functions you learned in the previous lessons.\n",
    "   - All datasets are provided in the `your-code` folder of this lab.\n",
    "   - Elaborate your codes and outputs as much as you can.\n",
    "   - Try your best to answer the questions and complete the tasks and most importantly enjoy the process!!!"
   ]
  },
  {
   "cell_type": "markdown",
   "metadata": {},
   "source": [
    "#### Import all the libraries that are necessary"
   ]
  },
  {
   "cell_type": "code",
   "execution_count": 1,
   "metadata": {},
   "outputs": [],
   "source": [
    "# import libraries here\n",
    "import pandas as pd\n",
    "import numpy as np\n",
    "import matplotlib.pyplot as plt"
   ]
  },
  {
   "cell_type": "markdown",
   "metadata": {},
   "source": [
    "# Challenge 1"
   ]
  },
  {
   "cell_type": "markdown",
   "metadata": {},
   "source": [
    "#### In this challenge we will use the `Temp_States.csv` file. \n",
    "\n",
    "#### First import it into a data frame called `temp`."
   ]
  },
  {
   "cell_type": "code",
   "execution_count": 2,
   "metadata": {},
   "outputs": [],
   "source": [
    "temp = pd.read_csv('Temp_States.csv')"
   ]
  },
  {
   "cell_type": "markdown",
   "metadata": {},
   "source": [
    "#### Print `temp`"
   ]
  },
  {
   "cell_type": "code",
   "execution_count": 3,
   "metadata": {},
   "outputs": [
    {
     "name": "stdout",
     "output_type": "stream",
     "text": [
      "         City        State  Temperature\n",
      "0         NYC     New York    19.444444\n",
      "1      Albany     New York     9.444444\n",
      "2     Buffalo     New York     3.333333\n",
      "3    Hartford  Connecticut    17.222222\n",
      "4  Bridgeport  Connecticut    14.444444\n",
      "5      Treton   New Jersey    22.222222\n",
      "6      Newark   New Jersey    20.000000\n"
     ]
    }
   ],
   "source": [
    "print(temp)"
   ]
  },
  {
   "cell_type": "markdown",
   "metadata": {},
   "source": [
    "#### Explore the data types of the Temp dataframe. What type of data do we have? Comment your result."
   ]
  },
  {
   "cell_type": "code",
   "execution_count": 4,
   "metadata": {},
   "outputs": [
    {
     "data": {
      "text/plain": [
       "City            object\n",
       "State           object\n",
       "Temperature    float64\n",
       "dtype: object"
      ]
     },
     "execution_count": 4,
     "metadata": {},
     "output_type": "execute_result"
    }
   ],
   "source": [
    "temp.dtypes\n",
    "#Tenemos dos variables categóricas: ciudad y estado.\n",
    "#Y una variable númerica con decimales: temperatura"
   ]
  },
  {
   "cell_type": "markdown",
   "metadata": {},
   "source": [
    "#### Select the rows where state is New York"
   ]
  },
  {
   "cell_type": "code",
   "execution_count": 5,
   "metadata": {},
   "outputs": [
    {
     "data": {
      "text/html": [
       "<div>\n",
       "<style scoped>\n",
       "    .dataframe tbody tr th:only-of-type {\n",
       "        vertical-align: middle;\n",
       "    }\n",
       "\n",
       "    .dataframe tbody tr th {\n",
       "        vertical-align: top;\n",
       "    }\n",
       "\n",
       "    .dataframe thead th {\n",
       "        text-align: right;\n",
       "    }\n",
       "</style>\n",
       "<table border=\"1\" class=\"dataframe\">\n",
       "  <thead>\n",
       "    <tr style=\"text-align: right;\">\n",
       "      <th></th>\n",
       "      <th>City</th>\n",
       "      <th>State</th>\n",
       "      <th>Temperature</th>\n",
       "    </tr>\n",
       "  </thead>\n",
       "  <tbody>\n",
       "    <tr>\n",
       "      <th>0</th>\n",
       "      <td>NYC</td>\n",
       "      <td>New York</td>\n",
       "      <td>19.444444</td>\n",
       "    </tr>\n",
       "    <tr>\n",
       "      <th>1</th>\n",
       "      <td>Albany</td>\n",
       "      <td>New York</td>\n",
       "      <td>9.444444</td>\n",
       "    </tr>\n",
       "    <tr>\n",
       "      <th>2</th>\n",
       "      <td>Buffalo</td>\n",
       "      <td>New York</td>\n",
       "      <td>3.333333</td>\n",
       "    </tr>\n",
       "  </tbody>\n",
       "</table>\n",
       "</div>"
      ],
      "text/plain": [
       "      City     State  Temperature\n",
       "0      NYC  New York    19.444444\n",
       "1   Albany  New York     9.444444\n",
       "2  Buffalo  New York     3.333333"
      ]
     },
     "execution_count": 5,
     "metadata": {},
     "output_type": "execute_result"
    }
   ],
   "source": [
    "temp.loc[temp['State'] == 'New York']"
   ]
  },
  {
   "cell_type": "markdown",
   "metadata": {},
   "source": [
    "#### What is the average of the temperature of cities in New York?"
   ]
  },
  {
   "cell_type": "code",
   "execution_count": 6,
   "metadata": {},
   "outputs": [
    {
     "data": {
      "text/plain": [
       "Temperature    10.740741\n",
       "dtype: float64"
      ]
     },
     "execution_count": 6,
     "metadata": {},
     "output_type": "execute_result"
    }
   ],
   "source": [
    "temp.loc[temp['State'] == 'New York'].mean()"
   ]
  },
  {
   "cell_type": "markdown",
   "metadata": {},
   "source": [
    "#### We want to know cities and states with Temperature above 15 degress Celcius"
   ]
  },
  {
   "cell_type": "code",
   "execution_count": 7,
   "metadata": {},
   "outputs": [
    {
     "data": {
      "text/html": [
       "<div>\n",
       "<style scoped>\n",
       "    .dataframe tbody tr th:only-of-type {\n",
       "        vertical-align: middle;\n",
       "    }\n",
       "\n",
       "    .dataframe tbody tr th {\n",
       "        vertical-align: top;\n",
       "    }\n",
       "\n",
       "    .dataframe thead th {\n",
       "        text-align: right;\n",
       "    }\n",
       "</style>\n",
       "<table border=\"1\" class=\"dataframe\">\n",
       "  <thead>\n",
       "    <tr style=\"text-align: right;\">\n",
       "      <th></th>\n",
       "      <th>City</th>\n",
       "      <th>State</th>\n",
       "      <th>Temperature</th>\n",
       "    </tr>\n",
       "  </thead>\n",
       "  <tbody>\n",
       "    <tr>\n",
       "      <th>0</th>\n",
       "      <td>NYC</td>\n",
       "      <td>New York</td>\n",
       "      <td>19.444444</td>\n",
       "    </tr>\n",
       "    <tr>\n",
       "      <th>3</th>\n",
       "      <td>Hartford</td>\n",
       "      <td>Connecticut</td>\n",
       "      <td>17.222222</td>\n",
       "    </tr>\n",
       "    <tr>\n",
       "      <th>5</th>\n",
       "      <td>Treton</td>\n",
       "      <td>New Jersey</td>\n",
       "      <td>22.222222</td>\n",
       "    </tr>\n",
       "    <tr>\n",
       "      <th>6</th>\n",
       "      <td>Newark</td>\n",
       "      <td>New Jersey</td>\n",
       "      <td>20.000000</td>\n",
       "    </tr>\n",
       "  </tbody>\n",
       "</table>\n",
       "</div>"
      ],
      "text/plain": [
       "       City        State  Temperature\n",
       "0       NYC     New York    19.444444\n",
       "3  Hartford  Connecticut    17.222222\n",
       "5    Treton   New Jersey    22.222222\n",
       "6    Newark   New Jersey    20.000000"
      ]
     },
     "execution_count": 7,
     "metadata": {},
     "output_type": "execute_result"
    }
   ],
   "source": [
    "temp.loc[temp['Temperature'] > 15]"
   ]
  },
  {
   "cell_type": "markdown",
   "metadata": {},
   "source": [
    "#### Now, return only the cities that have a temperature above 15 degress Celcius"
   ]
  },
  {
   "cell_type": "code",
   "execution_count": 8,
   "metadata": {},
   "outputs": [
    {
     "data": {
      "text/plain": [
       "1        Albany\n",
       "2       Buffalo\n",
       "4    Bridgeport\n",
       "Name: City, dtype: object"
      ]
     },
     "execution_count": 8,
     "metadata": {},
     "output_type": "execute_result"
    }
   ],
   "source": [
    "temp['City'].loc[temp['Temperature']< 15]"
   ]
  },
  {
   "cell_type": "markdown",
   "metadata": {},
   "source": [
    "#### We want to know which cities have a temperature above 15 degrees Celcius and below 20 degrees Celcius\n",
    "\n",
    "*Hint: First write the condition then select the rows.*"
   ]
  },
  {
   "cell_type": "code",
   "execution_count": 9,
   "metadata": {},
   "outputs": [
    {
     "data": {
      "text/plain": [
       "0         NYC\n",
       "3    Hartford\n",
       "Name: City, dtype: object"
      ]
     },
     "execution_count": 9,
     "metadata": {},
     "output_type": "execute_result"
    }
   ],
   "source": [
    "Above_15 = temp.loc[temp['Temperature'] > 15]\n",
    "Above_15['City'].loc[Above_15['Temperature']<20]"
   ]
  },
  {
   "cell_type": "markdown",
   "metadata": {},
   "source": [
    "#### Find the mean and the standard deviation of the temperature of each state.\n",
    "\n",
    "*Hint: Use functions from Data Manipulation lesson*"
   ]
  },
  {
   "cell_type": "code",
   "execution_count": 10,
   "metadata": {},
   "outputs": [
    {
     "data": {
      "text/html": [
       "<div>\n",
       "<style scoped>\n",
       "    .dataframe tbody tr th:only-of-type {\n",
       "        vertical-align: middle;\n",
       "    }\n",
       "\n",
       "    .dataframe tbody tr th {\n",
       "        vertical-align: top;\n",
       "    }\n",
       "\n",
       "    .dataframe thead tr th {\n",
       "        text-align: left;\n",
       "    }\n",
       "</style>\n",
       "<table border=\"1\" class=\"dataframe\">\n",
       "  <thead>\n",
       "    <tr>\n",
       "      <th></th>\n",
       "      <th>State</th>\n",
       "      <th colspan=\"2\" halign=\"left\">Temperature</th>\n",
       "    </tr>\n",
       "    <tr>\n",
       "      <th></th>\n",
       "      <th></th>\n",
       "      <th>mean</th>\n",
       "      <th>std</th>\n",
       "    </tr>\n",
       "  </thead>\n",
       "  <tbody>\n",
       "    <tr>\n",
       "      <th>0</th>\n",
       "      <td>Connecticut</td>\n",
       "      <td>15.833333</td>\n",
       "      <td>1.964186</td>\n",
       "    </tr>\n",
       "    <tr>\n",
       "      <th>1</th>\n",
       "      <td>New Jersey</td>\n",
       "      <td>21.111111</td>\n",
       "      <td>1.571348</td>\n",
       "    </tr>\n",
       "    <tr>\n",
       "      <th>2</th>\n",
       "      <td>New York</td>\n",
       "      <td>10.740741</td>\n",
       "      <td>8.133404</td>\n",
       "    </tr>\n",
       "  </tbody>\n",
       "</table>\n",
       "</div>"
      ],
      "text/plain": [
       "         State Temperature          \n",
       "                      mean       std\n",
       "0  Connecticut   15.833333  1.964186\n",
       "1   New Jersey   21.111111  1.571348\n",
       "2     New York   10.740741  8.133404"
      ]
     },
     "execution_count": 10,
     "metadata": {},
     "output_type": "execute_result"
    }
   ],
   "source": [
    "temp.groupby('State', as_index=False).agg({'Temperature':['mean','std']})"
   ]
  },
  {
   "cell_type": "markdown",
   "metadata": {
    "collapsed": true
   },
   "source": [
    "# Challenge 2"
   ]
  },
  {
   "cell_type": "markdown",
   "metadata": {},
   "source": [
    "#### Load the `employee.csv` file into a DataFrame. Call the dataframe `employee`"
   ]
  },
  {
   "cell_type": "code",
   "execution_count": 11,
   "metadata": {},
   "outputs": [],
   "source": [
    "employee = pd.read_csv('employee.csv')"
   ]
  },
  {
   "cell_type": "markdown",
   "metadata": {},
   "source": [
    "#### Explore the data types of the Temp dataframe. Comment your results"
   ]
  },
  {
   "cell_type": "code",
   "execution_count": 12,
   "metadata": {},
   "outputs": [
    {
     "data": {
      "text/plain": [
       "Name          object\n",
       "Department    object\n",
       "Education     object\n",
       "Gender        object\n",
       "Title         object\n",
       "Years          int64\n",
       "Salary         int64\n",
       "dtype: object"
      ]
     },
     "execution_count": 12,
     "metadata": {},
     "output_type": "execute_result"
    }
   ],
   "source": [
    "employee.dtypes\n",
    "#Cinco categorías nominales: Name, Department, Education, Gender, Title, Years\n",
    "#Dos categorías numéricas : Years & Salary"
   ]
  },
  {
   "cell_type": "markdown",
   "metadata": {},
   "source": [
    "#### Show visually the frequency distribution (histogram) of the employee dataset. In few words describe these histograms?"
   ]
  },
  {
   "cell_type": "code",
   "execution_count": 13,
   "metadata": {},
   "outputs": [
    {
     "data": {
      "text/plain": [
       "array([[<AxesSubplot:title={'center':'Years'}>,\n",
       "        <AxesSubplot:title={'center':'Salary'}>]], dtype=object)"
      ]
     },
     "execution_count": 13,
     "metadata": {},
     "output_type": "execute_result"
    },
    {
     "data": {
      "image/png": "[encoded data removed]",
      "text/plain": [
       "<Figure size 432x288 with 2 Axes>"
      ]
     },
     "metadata": {
      "needs_background": "light"
     },
     "output_type": "display_data"
    }
   ],
   "source": [
    "employee.hist(bins=20)"
   ]
  },
  {
   "cell_type": "markdown",
   "metadata": {},
   "source": [
    "#### What's the average salary in this company?"
   ]
  },
  {
   "cell_type": "code",
   "execution_count": 14,
   "metadata": {},
   "outputs": [
    {
     "data": {
      "text/plain": [
       "48.888888888888886"
      ]
     },
     "execution_count": 14,
     "metadata": {},
     "output_type": "execute_result"
    }
   ],
   "source": [
    "employee['Salary'].mean()"
   ]
  },
  {
   "cell_type": "markdown",
   "metadata": {},
   "source": [
    "#### What's the highest salary?"
   ]
  },
  {
   "cell_type": "code",
   "execution_count": 15,
   "metadata": {},
   "outputs": [
    {
     "data": {
      "text/plain": [
       "70"
      ]
     },
     "execution_count": 15,
     "metadata": {},
     "output_type": "execute_result"
    }
   ],
   "source": [
    "employee['Salary'].max()"
   ]
  },
  {
   "cell_type": "markdown",
   "metadata": {},
   "source": [
    "#### What's the lowest salary?"
   ]
  },
  {
   "cell_type": "code",
   "execution_count": 16,
   "metadata": {},
   "outputs": [
    {
     "data": {
      "text/plain": [
       "30"
      ]
     },
     "execution_count": 16,
     "metadata": {},
     "output_type": "execute_result"
    }
   ],
   "source": [
    "employee['Salary'].min()"
   ]
  },
  {
   "cell_type": "markdown",
   "metadata": {},
   "source": [
    "#### Who are the employees with the lowest salary?"
   ]
  },
  {
   "cell_type": "code",
   "execution_count": 17,
   "metadata": {},
   "outputs": [
    {
     "data": {
      "text/plain": [
       "1    Maria\n",
       "2    David\n",
       "Name: Name, dtype: object"
      ]
     },
     "execution_count": 17,
     "metadata": {},
     "output_type": "execute_result"
    }
   ],
   "source": [
    "lowest = employee[employee['Salary'] == employee['Salary'].min()]\n",
    "lowest['Name']"
   ]
  },
  {
   "cell_type": "markdown",
   "metadata": {},
   "source": [
    "#### Could you give all the information about an employee called David?"
   ]
  },
  {
   "cell_type": "code",
   "execution_count": 18,
   "metadata": {},
   "outputs": [
    {
     "data": {
      "text/html": [
       "<div>\n",
       "<style scoped>\n",
       "    .dataframe tbody tr th:only-of-type {\n",
       "        vertical-align: middle;\n",
       "    }\n",
       "\n",
       "    .dataframe tbody tr th {\n",
       "        vertical-align: top;\n",
       "    }\n",
       "\n",
       "    .dataframe thead th {\n",
       "        text-align: right;\n",
       "    }\n",
       "</style>\n",
       "<table border=\"1\" class=\"dataframe\">\n",
       "  <thead>\n",
       "    <tr style=\"text-align: right;\">\n",
       "      <th></th>\n",
       "      <th>Name</th>\n",
       "      <th>Department</th>\n",
       "      <th>Education</th>\n",
       "      <th>Gender</th>\n",
       "      <th>Title</th>\n",
       "      <th>Years</th>\n",
       "      <th>Salary</th>\n",
       "    </tr>\n",
       "  </thead>\n",
       "  <tbody>\n",
       "    <tr>\n",
       "      <th>2</th>\n",
       "      <td>David</td>\n",
       "      <td>HR</td>\n",
       "      <td>Master</td>\n",
       "      <td>M</td>\n",
       "      <td>analyst</td>\n",
       "      <td>2</td>\n",
       "      <td>30</td>\n",
       "    </tr>\n",
       "  </tbody>\n",
       "</table>\n",
       "</div>"
      ],
      "text/plain": [
       "    Name Department Education Gender    Title  Years  Salary\n",
       "2  David         HR    Master      M  analyst      2      30"
      ]
     },
     "execution_count": 18,
     "metadata": {},
     "output_type": "execute_result"
    }
   ],
   "source": [
    "David = employee[employee['Name']== 'David']\n",
    "David"
   ]
  },
  {
   "cell_type": "markdown",
   "metadata": {},
   "source": [
    "#### Could you give only David's salary?"
   ]
  },
  {
   "cell_type": "code",
   "execution_count": 19,
   "metadata": {},
   "outputs": [
    {
     "data": {
      "text/plain": [
       "2    30\n",
       "Name: Salary, dtype: int64"
      ]
     },
     "execution_count": 19,
     "metadata": {},
     "output_type": "execute_result"
    }
   ],
   "source": [
    "David['Salary']"
   ]
  },
  {
   "cell_type": "markdown",
   "metadata": {},
   "source": [
    "#### Print all the rows where job title is associate"
   ]
  },
  {
   "cell_type": "code",
   "execution_count": 20,
   "metadata": {},
   "outputs": [
    {
     "data": {
      "text/html": [
       "<div>\n",
       "<style scoped>\n",
       "    .dataframe tbody tr th:only-of-type {\n",
       "        vertical-align: middle;\n",
       "    }\n",
       "\n",
       "    .dataframe tbody tr th {\n",
       "        vertical-align: top;\n",
       "    }\n",
       "\n",
       "    .dataframe thead th {\n",
       "        text-align: right;\n",
       "    }\n",
       "</style>\n",
       "<table border=\"1\" class=\"dataframe\">\n",
       "  <thead>\n",
       "    <tr style=\"text-align: right;\">\n",
       "      <th></th>\n",
       "      <th>Name</th>\n",
       "      <th>Department</th>\n",
       "      <th>Education</th>\n",
       "      <th>Gender</th>\n",
       "      <th>Title</th>\n",
       "      <th>Years</th>\n",
       "      <th>Salary</th>\n",
       "    </tr>\n",
       "  </thead>\n",
       "  <tbody>\n",
       "    <tr>\n",
       "      <th>4</th>\n",
       "      <td>Samuel</td>\n",
       "      <td>Sales</td>\n",
       "      <td>Master</td>\n",
       "      <td>M</td>\n",
       "      <td>associate</td>\n",
       "      <td>3</td>\n",
       "      <td>55</td>\n",
       "    </tr>\n",
       "    <tr>\n",
       "      <th>5</th>\n",
       "      <td>Eva</td>\n",
       "      <td>Sales</td>\n",
       "      <td>Bachelor</td>\n",
       "      <td>F</td>\n",
       "      <td>associate</td>\n",
       "      <td>2</td>\n",
       "      <td>55</td>\n",
       "    </tr>\n",
       "    <tr>\n",
       "      <th>7</th>\n",
       "      <td>Pedro</td>\n",
       "      <td>IT</td>\n",
       "      <td>Phd</td>\n",
       "      <td>M</td>\n",
       "      <td>associate</td>\n",
       "      <td>7</td>\n",
       "      <td>60</td>\n",
       "    </tr>\n",
       "  </tbody>\n",
       "</table>\n",
       "</div>"
      ],
      "text/plain": [
       "     Name Department Education Gender      Title  Years  Salary\n",
       "4  Samuel      Sales    Master      M  associate      3      55\n",
       "5     Eva      Sales  Bachelor      F  associate      2      55\n",
       "7   Pedro         IT       Phd      M  associate      7      60"
      ]
     },
     "execution_count": 20,
     "metadata": {},
     "output_type": "execute_result"
    }
   ],
   "source": [
    "employee[employee['Title']=='associate']"
   ]
  },
  {
   "cell_type": "markdown",
   "metadata": {},
   "source": [
    "#### Print the first 3 rows of your dataframe\n",
    "\n",
    "##### Tip : There are 2 ways to do it. Do it both ways"
   ]
  },
  {
   "cell_type": "code",
   "execution_count": 21,
   "metadata": {},
   "outputs": [
    {
     "data": {
      "text/html": [
       "<div>\n",
       "<style scoped>\n",
       "    .dataframe tbody tr th:only-of-type {\n",
       "        vertical-align: middle;\n",
       "    }\n",
       "\n",
       "    .dataframe tbody tr th {\n",
       "        vertical-align: top;\n",
       "    }\n",
       "\n",
       "    .dataframe thead th {\n",
       "        text-align: right;\n",
       "    }\n",
       "</style>\n",
       "<table border=\"1\" class=\"dataframe\">\n",
       "  <thead>\n",
       "    <tr style=\"text-align: right;\">\n",
       "      <th></th>\n",
       "      <th>Name</th>\n",
       "      <th>Department</th>\n",
       "      <th>Education</th>\n",
       "      <th>Gender</th>\n",
       "      <th>Title</th>\n",
       "      <th>Years</th>\n",
       "      <th>Salary</th>\n",
       "    </tr>\n",
       "  </thead>\n",
       "  <tbody>\n",
       "    <tr>\n",
       "      <th>0</th>\n",
       "      <td>Jose</td>\n",
       "      <td>IT</td>\n",
       "      <td>Bachelor</td>\n",
       "      <td>M</td>\n",
       "      <td>analyst</td>\n",
       "      <td>1</td>\n",
       "      <td>35</td>\n",
       "    </tr>\n",
       "    <tr>\n",
       "      <th>1</th>\n",
       "      <td>Maria</td>\n",
       "      <td>IT</td>\n",
       "      <td>Master</td>\n",
       "      <td>F</td>\n",
       "      <td>analyst</td>\n",
       "      <td>2</td>\n",
       "      <td>30</td>\n",
       "    </tr>\n",
       "    <tr>\n",
       "      <th>2</th>\n",
       "      <td>David</td>\n",
       "      <td>HR</td>\n",
       "      <td>Master</td>\n",
       "      <td>M</td>\n",
       "      <td>analyst</td>\n",
       "      <td>2</td>\n",
       "      <td>30</td>\n",
       "    </tr>\n",
       "  </tbody>\n",
       "</table>\n",
       "</div>"
      ],
      "text/plain": [
       "    Name Department Education Gender    Title  Years  Salary\n",
       "0   Jose         IT  Bachelor      M  analyst      1      35\n",
       "1  Maria         IT    Master      F  analyst      2      30\n",
       "2  David         HR    Master      M  analyst      2      30"
      ]
     },
     "execution_count": 21,
     "metadata": {},
     "output_type": "execute_result"
    }
   ],
   "source": [
    "# your answer here- 1 method\n",
    "employee.head(3)"
   ]
  },
  {
   "cell_type": "code",
   "execution_count": 22,
   "metadata": {},
   "outputs": [
    {
     "data": {
      "text/html": [
       "<div>\n",
       "<style scoped>\n",
       "    .dataframe tbody tr th:only-of-type {\n",
       "        vertical-align: middle;\n",
       "    }\n",
       "\n",
       "    .dataframe tbody tr th {\n",
       "        vertical-align: top;\n",
       "    }\n",
       "\n",
       "    .dataframe thead th {\n",
       "        text-align: right;\n",
       "    }\n",
       "</style>\n",
       "<table border=\"1\" class=\"dataframe\">\n",
       "  <thead>\n",
       "    <tr style=\"text-align: right;\">\n",
       "      <th></th>\n",
       "      <th>Name</th>\n",
       "      <th>Department</th>\n",
       "      <th>Education</th>\n",
       "      <th>Gender</th>\n",
       "      <th>Title</th>\n",
       "      <th>Years</th>\n",
       "      <th>Salary</th>\n",
       "    </tr>\n",
       "  </thead>\n",
       "  <tbody>\n",
       "    <tr>\n",
       "      <th>0</th>\n",
       "      <td>Jose</td>\n",
       "      <td>IT</td>\n",
       "      <td>Bachelor</td>\n",
       "      <td>M</td>\n",
       "      <td>analyst</td>\n",
       "      <td>1</td>\n",
       "      <td>35</td>\n",
       "    </tr>\n",
       "    <tr>\n",
       "      <th>1</th>\n",
       "      <td>Maria</td>\n",
       "      <td>IT</td>\n",
       "      <td>Master</td>\n",
       "      <td>F</td>\n",
       "      <td>analyst</td>\n",
       "      <td>2</td>\n",
       "      <td>30</td>\n",
       "    </tr>\n",
       "    <tr>\n",
       "      <th>2</th>\n",
       "      <td>David</td>\n",
       "      <td>HR</td>\n",
       "      <td>Master</td>\n",
       "      <td>M</td>\n",
       "      <td>analyst</td>\n",
       "      <td>2</td>\n",
       "      <td>30</td>\n",
       "    </tr>\n",
       "  </tbody>\n",
       "</table>\n",
       "</div>"
      ],
      "text/plain": [
       "    Name Department Education Gender    Title  Years  Salary\n",
       "0   Jose         IT  Bachelor      M  analyst      1      35\n",
       "1  Maria         IT    Master      F  analyst      2      30\n",
       "2  David         HR    Master      M  analyst      2      30"
      ]
     },
     "execution_count": 22,
     "metadata": {},
     "output_type": "execute_result"
    }
   ],
   "source": [
    "# your answer here- 2nd method\n",
    "employee[0:3]"
   ]
  },
  {
   "cell_type": "markdown",
   "metadata": {},
   "source": [
    "#### Find the employees who's title is associate and the salary above 55?"
   ]
  },
  {
   "cell_type": "code",
   "execution_count": 23,
   "metadata": {},
   "outputs": [
    {
     "data": {
      "text/html": [
       "<div>\n",
       "<style scoped>\n",
       "    .dataframe tbody tr th:only-of-type {\n",
       "        vertical-align: middle;\n",
       "    }\n",
       "\n",
       "    .dataframe tbody tr th {\n",
       "        vertical-align: top;\n",
       "    }\n",
       "\n",
       "    .dataframe thead th {\n",
       "        text-align: right;\n",
       "    }\n",
       "</style>\n",
       "<table border=\"1\" class=\"dataframe\">\n",
       "  <thead>\n",
       "    <tr style=\"text-align: right;\">\n",
       "      <th></th>\n",
       "      <th>Name</th>\n",
       "      <th>Department</th>\n",
       "      <th>Education</th>\n",
       "      <th>Gender</th>\n",
       "      <th>Title</th>\n",
       "      <th>Years</th>\n",
       "      <th>Salary</th>\n",
       "    </tr>\n",
       "  </thead>\n",
       "  <tbody>\n",
       "    <tr>\n",
       "      <th>7</th>\n",
       "      <td>Pedro</td>\n",
       "      <td>IT</td>\n",
       "      <td>Phd</td>\n",
       "      <td>M</td>\n",
       "      <td>associate</td>\n",
       "      <td>7</td>\n",
       "      <td>60</td>\n",
       "    </tr>\n",
       "  </tbody>\n",
       "</table>\n",
       "</div>"
      ],
      "text/plain": [
       "    Name Department Education Gender      Title  Years  Salary\n",
       "7  Pedro         IT       Phd      M  associate      7      60"
      ]
     },
     "execution_count": 23,
     "metadata": {},
     "output_type": "execute_result"
    }
   ],
   "source": [
    "employee[(employee['Title']=='associate')&(employee['Salary'] > 55)]"
   ]
  },
  {
   "cell_type": "markdown",
   "metadata": {},
   "source": [
    "#### Group the employees based on their number of years of employment. What are the average salaries in each group?"
   ]
  },
  {
   "cell_type": "code",
   "execution_count": 24,
   "metadata": {},
   "outputs": [
    {
     "data": {
      "text/html": [
       "<div>\n",
       "<style scoped>\n",
       "    .dataframe tbody tr th:only-of-type {\n",
       "        vertical-align: middle;\n",
       "    }\n",
       "\n",
       "    .dataframe tbody tr th {\n",
       "        vertical-align: top;\n",
       "    }\n",
       "\n",
       "    .dataframe thead th {\n",
       "        text-align: right;\n",
       "    }\n",
       "</style>\n",
       "<table border=\"1\" class=\"dataframe\">\n",
       "  <thead>\n",
       "    <tr style=\"text-align: right;\">\n",
       "      <th></th>\n",
       "      <th>Years</th>\n",
       "      <th>Salary</th>\n",
       "    </tr>\n",
       "  </thead>\n",
       "  <tbody>\n",
       "    <tr>\n",
       "      <th>0</th>\n",
       "      <td>1</td>\n",
       "      <td>35.000000</td>\n",
       "    </tr>\n",
       "    <tr>\n",
       "      <th>1</th>\n",
       "      <td>2</td>\n",
       "      <td>38.333333</td>\n",
       "    </tr>\n",
       "    <tr>\n",
       "      <th>2</th>\n",
       "      <td>3</td>\n",
       "      <td>55.000000</td>\n",
       "    </tr>\n",
       "    <tr>\n",
       "      <th>3</th>\n",
       "      <td>4</td>\n",
       "      <td>35.000000</td>\n",
       "    </tr>\n",
       "    <tr>\n",
       "      <th>4</th>\n",
       "      <td>7</td>\n",
       "      <td>60.000000</td>\n",
       "    </tr>\n",
       "    <tr>\n",
       "      <th>5</th>\n",
       "      <td>8</td>\n",
       "      <td>70.000000</td>\n",
       "    </tr>\n",
       "  </tbody>\n",
       "</table>\n",
       "</div>"
      ],
      "text/plain": [
       "   Years     Salary\n",
       "0      1  35.000000\n",
       "1      2  38.333333\n",
       "2      3  55.000000\n",
       "3      4  35.000000\n",
       "4      7  60.000000\n",
       "5      8  70.000000"
      ]
     },
     "execution_count": 24,
     "metadata": {},
     "output_type": "execute_result"
    }
   ],
   "source": [
    "employee.groupby('Years', as_index=False).agg({'Salary':'mean'})"
   ]
  },
  {
   "cell_type": "markdown",
   "metadata": {},
   "source": [
    "####  What is the average Salary per title?"
   ]
  },
  {
   "cell_type": "code",
   "execution_count": 25,
   "metadata": {},
   "outputs": [
    {
     "data": {
      "text/html": [
       "<div>\n",
       "<style scoped>\n",
       "    .dataframe tbody tr th:only-of-type {\n",
       "        vertical-align: middle;\n",
       "    }\n",
       "\n",
       "    .dataframe tbody tr th {\n",
       "        vertical-align: top;\n",
       "    }\n",
       "\n",
       "    .dataframe thead th {\n",
       "        text-align: right;\n",
       "    }\n",
       "</style>\n",
       "<table border=\"1\" class=\"dataframe\">\n",
       "  <thead>\n",
       "    <tr style=\"text-align: right;\">\n",
       "      <th></th>\n",
       "      <th>Title</th>\n",
       "      <th>Salary</th>\n",
       "    </tr>\n",
       "  </thead>\n",
       "  <tbody>\n",
       "    <tr>\n",
       "      <th>0</th>\n",
       "      <td>VP</td>\n",
       "      <td>70.000000</td>\n",
       "    </tr>\n",
       "    <tr>\n",
       "      <th>1</th>\n",
       "      <td>analyst</td>\n",
       "      <td>32.500000</td>\n",
       "    </tr>\n",
       "    <tr>\n",
       "      <th>2</th>\n",
       "      <td>associate</td>\n",
       "      <td>56.666667</td>\n",
       "    </tr>\n",
       "  </tbody>\n",
       "</table>\n",
       "</div>"
      ],
      "text/plain": [
       "       Title     Salary\n",
       "0         VP  70.000000\n",
       "1    analyst  32.500000\n",
       "2  associate  56.666667"
      ]
     },
     "execution_count": 25,
     "metadata": {},
     "output_type": "execute_result"
    }
   ],
   "source": [
    "employee.groupby('Title', as_index=False).agg({'Salary':'mean'})"
   ]
  },
  {
   "cell_type": "markdown",
   "metadata": {},
   "source": [
    "#### Show a visual summary of the data using boxplot. What Are the First and Third Quartiles? Comment your results.\n",
    "##### * Hint : Quantiles vs Quartiles*\n",
    "##### - `In Probability and Statistics, quantiles are cut points dividing the range of a probability distribution into continuous intervals with equal probabilities. When division is into four parts the values of the variate corresponding to 25%, 50% and 75% of the total distribution are called quartiles.`"
   ]
  },
  {
   "cell_type": "code",
   "execution_count": 26,
   "metadata": {},
   "outputs": [
    {
     "data": {
      "text/plain": [
       "<AxesSubplot:>"
      ]
     },
     "execution_count": 26,
     "metadata": {},
     "output_type": "execute_result"
    },
    {
     "data": {
      "image/png": "[encoded data removed]",
      "text/plain": [
       "<Figure size 432x288 with 1 Axes>"
      ]
     },
     "metadata": {
      "needs_background": "light"
     },
     "output_type": "display_data"
    }
   ],
   "source": [
    "employee.boxplot()"
   ]
  },
  {
   "cell_type": "code",
   "execution_count": 27,
   "metadata": {},
   "outputs": [
    {
     "data": {
      "text/plain": [
       "Years      2.0\n",
       "Salary    35.0\n",
       "Name: 0.25, dtype: float64"
      ]
     },
     "execution_count": 27,
     "metadata": {},
     "output_type": "execute_result"
    }
   ],
   "source": [
    "# print first quartile here\n",
    "employee.quantile(.25)"
   ]
  },
  {
   "cell_type": "code",
   "execution_count": 28,
   "metadata": {},
   "outputs": [
    {
     "data": {
      "text/plain": [
       "Years      3.0\n",
       "Salary    55.0\n",
       "Name: 0.5, dtype: float64"
      ]
     },
     "execution_count": 28,
     "metadata": {},
     "output_type": "execute_result"
    }
   ],
   "source": [
    "# print third quartile here\n",
    "employee.quantile(.50)"
   ]
  },
  {
   "cell_type": "markdown",
   "metadata": {},
   "source": [
    "#### Is the mean salary per gender different?"
   ]
  },
  {
   "cell_type": "code",
   "execution_count": 29,
   "metadata": {},
   "outputs": [
    {
     "data": {
      "text/html": [
       "<div>\n",
       "<style scoped>\n",
       "    .dataframe tbody tr th:only-of-type {\n",
       "        vertical-align: middle;\n",
       "    }\n",
       "\n",
       "    .dataframe tbody tr th {\n",
       "        vertical-align: top;\n",
       "    }\n",
       "\n",
       "    .dataframe thead th {\n",
       "        text-align: right;\n",
       "    }\n",
       "</style>\n",
       "<table border=\"1\" class=\"dataframe\">\n",
       "  <thead>\n",
       "    <tr style=\"text-align: right;\">\n",
       "      <th></th>\n",
       "      <th>Gender</th>\n",
       "      <th>Salary</th>\n",
       "    </tr>\n",
       "  </thead>\n",
       "  <tbody>\n",
       "    <tr>\n",
       "      <th>0</th>\n",
       "      <td>F</td>\n",
       "      <td>47.5</td>\n",
       "    </tr>\n",
       "    <tr>\n",
       "      <th>1</th>\n",
       "      <td>M</td>\n",
       "      <td>50.0</td>\n",
       "    </tr>\n",
       "  </tbody>\n",
       "</table>\n",
       "</div>"
      ],
      "text/plain": [
       "  Gender  Salary\n",
       "0      F    47.5\n",
       "1      M    50.0"
      ]
     },
     "execution_count": 29,
     "metadata": {},
     "output_type": "execute_result"
    }
   ],
   "source": [
    "employee.groupby('Gender', as_index=False).agg({'Salary':'mean'})\n",
    "#Siiiii porque vivimos en una sociedad patriarcal jaja :("
   ]
  },
  {
   "cell_type": "markdown",
   "metadata": {},
   "source": [
    "#### Find the minimum, mean and the maximum of all numeric columns for each Department.\n",
    "\n",
    "##### Hint: Use functions from Data Manipulation lesson"
   ]
  },
  {
   "cell_type": "code",
   "execution_count": 30,
   "metadata": {},
   "outputs": [
    {
     "data": {
      "text/html": [
       "<div>\n",
       "<style scoped>\n",
       "    .dataframe tbody tr th:only-of-type {\n",
       "        vertical-align: middle;\n",
       "    }\n",
       "\n",
       "    .dataframe tbody tr th {\n",
       "        vertical-align: top;\n",
       "    }\n",
       "\n",
       "    .dataframe thead tr th {\n",
       "        text-align: left;\n",
       "    }\n",
       "</style>\n",
       "<table border=\"1\" class=\"dataframe\">\n",
       "  <thead>\n",
       "    <tr>\n",
       "      <th></th>\n",
       "      <th>Department</th>\n",
       "      <th colspan=\"3\" halign=\"left\">Salary</th>\n",
       "    </tr>\n",
       "    <tr>\n",
       "      <th></th>\n",
       "      <th></th>\n",
       "      <th>min</th>\n",
       "      <th>mean</th>\n",
       "      <th>max</th>\n",
       "    </tr>\n",
       "  </thead>\n",
       "  <tbody>\n",
       "    <tr>\n",
       "      <th>0</th>\n",
       "      <td>HR</td>\n",
       "      <td>30</td>\n",
       "      <td>45.00</td>\n",
       "      <td>70</td>\n",
       "    </tr>\n",
       "    <tr>\n",
       "      <th>1</th>\n",
       "      <td>IT</td>\n",
       "      <td>30</td>\n",
       "      <td>48.75</td>\n",
       "      <td>70</td>\n",
       "    </tr>\n",
       "    <tr>\n",
       "      <th>2</th>\n",
       "      <td>Sales</td>\n",
       "      <td>55</td>\n",
       "      <td>55.00</td>\n",
       "      <td>55</td>\n",
       "    </tr>\n",
       "  </tbody>\n",
       "</table>\n",
       "</div>"
      ],
      "text/plain": [
       "  Department Salary           \n",
       "                min   mean max\n",
       "0         HR     30  45.00  70\n",
       "1         IT     30  48.75  70\n",
       "2      Sales     55  55.00  55"
      ]
     },
     "execution_count": 30,
     "metadata": {},
     "output_type": "execute_result"
    }
   ],
   "source": [
    "employee.groupby('Department', as_index=False).agg({'Salary':['min', 'mean', 'max']})"
   ]
  },
  {
   "cell_type": "markdown",
   "metadata": {},
   "source": [
    "### Bonus Question\n",
    "\n",
    "#### For each department, compute the difference between the maximal salary and the minimal salary.\n",
    "\n",
    "##### * Hint: try using `agg` or `apply` and `lambda`*"
   ]
  },
  {
   "cell_type": "code",
   "execution_count": 31,
   "metadata": {},
   "outputs": [
    {
     "data": {
      "text/html": [
       "<div>\n",
       "<style scoped>\n",
       "    .dataframe tbody tr th:only-of-type {\n",
       "        vertical-align: middle;\n",
       "    }\n",
       "\n",
       "    .dataframe tbody tr th {\n",
       "        vertical-align: top;\n",
       "    }\n",
       "\n",
       "    .dataframe thead th {\n",
       "        text-align: right;\n",
       "    }\n",
       "</style>\n",
       "<table border=\"1\" class=\"dataframe\">\n",
       "  <thead>\n",
       "    <tr style=\"text-align: right;\">\n",
       "      <th></th>\n",
       "      <th>Department</th>\n",
       "      <th>Salary</th>\n",
       "    </tr>\n",
       "  </thead>\n",
       "  <tbody>\n",
       "    <tr>\n",
       "      <th>0</th>\n",
       "      <td>HR</td>\n",
       "      <td>40</td>\n",
       "    </tr>\n",
       "    <tr>\n",
       "      <th>1</th>\n",
       "      <td>IT</td>\n",
       "      <td>40</td>\n",
       "    </tr>\n",
       "    <tr>\n",
       "      <th>2</th>\n",
       "      <td>Sales</td>\n",
       "      <td>0</td>\n",
       "    </tr>\n",
       "  </tbody>\n",
       "</table>\n",
       "</div>"
      ],
      "text/plain": [
       "  Department  Salary\n",
       "0         HR      40\n",
       "1         IT      40\n",
       "2      Sales       0"
      ]
     },
     "execution_count": 31,
     "metadata": {},
     "output_type": "execute_result"
    }
   ],
   "source": [
    "employee.groupby('Department', as_index=False).agg({'Salary': lambda x: x.max()-x.min()})"
   ]
  },
  {
   "cell_type": "markdown",
   "metadata": {
    "collapsed": true
   },
   "source": [
    "# Challenge 3"
   ]
  },
  {
   "cell_type": "markdown",
   "metadata": {},
   "source": [
    "#### Open the Orders.csv dataset. Name your dataset orders"
   ]
  },
  {
   "cell_type": "code",
   "execution_count": 32,
   "metadata": {},
   "outputs": [],
   "source": [
    "orders = pd.read_csv('Orders.zip')"
   ]
  },
  {
   "cell_type": "markdown",
   "metadata": {},
   "source": [
    "#### Explore your dataset by looking at the data types and the summary statistics. Comment your results"
   ]
  },
  {
   "cell_type": "code",
   "execution_count": 177,
   "metadata": {},
   "outputs": [
    {
     "data": {
      "text/html": [
       "<div>\n",
       "<style scoped>\n",
       "    .dataframe tbody tr th:only-of-type {\n",
       "        vertical-align: middle;\n",
       "    }\n",
       "\n",
       "    .dataframe tbody tr th {\n",
       "        vertical-align: top;\n",
       "    }\n",
       "\n",
       "    .dataframe thead th {\n",
       "        text-align: right;\n",
       "    }\n",
       "</style>\n",
       "<table border=\"1\" class=\"dataframe\">\n",
       "  <thead>\n",
       "    <tr style=\"text-align: right;\">\n",
       "      <th></th>\n",
       "      <th>Unnamed: 0</th>\n",
       "      <th>InvoiceNo</th>\n",
       "      <th>StockCode</th>\n",
       "      <th>year</th>\n",
       "      <th>month</th>\n",
       "      <th>day</th>\n",
       "      <th>hour</th>\n",
       "      <th>Description</th>\n",
       "      <th>Quantity</th>\n",
       "      <th>InvoiceDate</th>\n",
       "      <th>UnitPrice</th>\n",
       "      <th>CustomerID</th>\n",
       "      <th>Country</th>\n",
       "      <th>amount_spent</th>\n",
       "    </tr>\n",
       "  </thead>\n",
       "  <tbody>\n",
       "    <tr>\n",
       "      <th>0</th>\n",
       "      <td>0</td>\n",
       "      <td>536365</td>\n",
       "      <td>85123A</td>\n",
       "      <td>2010</td>\n",
       "      <td>12</td>\n",
       "      <td>3</td>\n",
       "      <td>8</td>\n",
       "      <td>white hanging heart t-light holder</td>\n",
       "      <td>6</td>\n",
       "      <td>2010-12-01 08:26:00</td>\n",
       "      <td>2.55</td>\n",
       "      <td>17850</td>\n",
       "      <td>United Kingdom</td>\n",
       "      <td>15.30</td>\n",
       "    </tr>\n",
       "    <tr>\n",
       "      <th>1</th>\n",
       "      <td>1</td>\n",
       "      <td>536365</td>\n",
       "      <td>71053</td>\n",
       "      <td>2010</td>\n",
       "      <td>12</td>\n",
       "      <td>3</td>\n",
       "      <td>8</td>\n",
       "      <td>white metal lantern</td>\n",
       "      <td>6</td>\n",
       "      <td>2010-12-01 08:26:00</td>\n",
       "      <td>3.39</td>\n",
       "      <td>17850</td>\n",
       "      <td>United Kingdom</td>\n",
       "      <td>20.34</td>\n",
       "    </tr>\n",
       "    <tr>\n",
       "      <th>2</th>\n",
       "      <td>2</td>\n",
       "      <td>536365</td>\n",
       "      <td>84406B</td>\n",
       "      <td>2010</td>\n",
       "      <td>12</td>\n",
       "      <td>3</td>\n",
       "      <td>8</td>\n",
       "      <td>cream cupid hearts coat hanger</td>\n",
       "      <td>8</td>\n",
       "      <td>2010-12-01 08:26:00</td>\n",
       "      <td>2.75</td>\n",
       "      <td>17850</td>\n",
       "      <td>United Kingdom</td>\n",
       "      <td>22.00</td>\n",
       "    </tr>\n",
       "    <tr>\n",
       "      <th>3</th>\n",
       "      <td>3</td>\n",
       "      <td>536365</td>\n",
       "      <td>84029G</td>\n",
       "      <td>2010</td>\n",
       "      <td>12</td>\n",
       "      <td>3</td>\n",
       "      <td>8</td>\n",
       "      <td>knitted union flag hot water bottle</td>\n",
       "      <td>6</td>\n",
       "      <td>2010-12-01 08:26:00</td>\n",
       "      <td>3.39</td>\n",
       "      <td>17850</td>\n",
       "      <td>United Kingdom</td>\n",
       "      <td>20.34</td>\n",
       "    </tr>\n",
       "    <tr>\n",
       "      <th>4</th>\n",
       "      <td>4</td>\n",
       "      <td>536365</td>\n",
       "      <td>84029E</td>\n",
       "      <td>2010</td>\n",
       "      <td>12</td>\n",
       "      <td>3</td>\n",
       "      <td>8</td>\n",
       "      <td>red woolly hottie white heart.</td>\n",
       "      <td>6</td>\n",
       "      <td>2010-12-01 08:26:00</td>\n",
       "      <td>3.39</td>\n",
       "      <td>17850</td>\n",
       "      <td>United Kingdom</td>\n",
       "      <td>20.34</td>\n",
       "    </tr>\n",
       "  </tbody>\n",
       "</table>\n",
       "</div>"
      ],
      "text/plain": [
       "   Unnamed: 0  InvoiceNo StockCode  year  month  day  hour  \\\n",
       "0           0     536365    85123A  2010     12    3     8   \n",
       "1           1     536365     71053  2010     12    3     8   \n",
       "2           2     536365    84406B  2010     12    3     8   \n",
       "3           3     536365    84029G  2010     12    3     8   \n",
       "4           4     536365    84029E  2010     12    3     8   \n",
       "\n",
       "                           Description  Quantity          InvoiceDate  \\\n",
       "0   white hanging heart t-light holder         6  2010-12-01 08:26:00   \n",
       "1                  white metal lantern         6  2010-12-01 08:26:00   \n",
       "2       cream cupid hearts coat hanger         8  2010-12-01 08:26:00   \n",
       "3  knitted union flag hot water bottle         6  2010-12-01 08:26:00   \n",
       "4       red woolly hottie white heart.         6  2010-12-01 08:26:00   \n",
       "\n",
       "   UnitPrice  CustomerID         Country  amount_spent  \n",
       "0       2.55       17850  United Kingdom         15.30  \n",
       "1       3.39       17850  United Kingdom         20.34  \n",
       "2       2.75       17850  United Kingdom         22.00  \n",
       "3       3.39       17850  United Kingdom         20.34  \n",
       "4       3.39       17850  United Kingdom         20.34  "
      ]
     },
     "execution_count": 177,
     "metadata": {},
     "output_type": "execute_result"
    }
   ],
   "source": [
    "orders.head()"
   ]
  },
  {
   "cell_type": "code",
   "execution_count": 68,
   "metadata": {},
   "outputs": [
    {
     "data": {
      "text/plain": [
       "Unnamed: 0        int64\n",
       "InvoiceNo         int64\n",
       "StockCode        object\n",
       "year              int64\n",
       "month             int64\n",
       "day               int64\n",
       "hour              int64\n",
       "Description      object\n",
       "Quantity          int64\n",
       "InvoiceDate      object\n",
       "UnitPrice       float64\n",
       "CustomerID        int64\n",
       "Country          object\n",
       "amount_spent    float64\n",
       "dtype: object"
      ]
     },
     "execution_count": 68,
     "metadata": {},
     "output_type": "execute_result"
    }
   ],
   "source": [
    "orders.dtypes"
   ]
  },
  {
   "cell_type": "code",
   "execution_count": 69,
   "metadata": {},
   "outputs": [
    {
     "data": {
      "text/html": [
       "<div>\n",
       "<style scoped>\n",
       "    .dataframe tbody tr th:only-of-type {\n",
       "        vertical-align: middle;\n",
       "    }\n",
       "\n",
       "    .dataframe tbody tr th {\n",
       "        vertical-align: top;\n",
       "    }\n",
       "\n",
       "    .dataframe thead th {\n",
       "        text-align: right;\n",
       "    }\n",
       "</style>\n",
       "<table border=\"1\" class=\"dataframe\">\n",
       "  <thead>\n",
       "    <tr style=\"text-align: right;\">\n",
       "      <th></th>\n",
       "      <th>Unnamed: 0</th>\n",
       "      <th>InvoiceNo</th>\n",
       "      <th>year</th>\n",
       "      <th>month</th>\n",
       "      <th>day</th>\n",
       "      <th>hour</th>\n",
       "      <th>Quantity</th>\n",
       "      <th>UnitPrice</th>\n",
       "      <th>CustomerID</th>\n",
       "      <th>amount_spent</th>\n",
       "    </tr>\n",
       "  </thead>\n",
       "  <tbody>\n",
       "    <tr>\n",
       "      <th>count</th>\n",
       "      <td>397924.000000</td>\n",
       "      <td>397924.000000</td>\n",
       "      <td>397924.000000</td>\n",
       "      <td>397924.000000</td>\n",
       "      <td>397924.000000</td>\n",
       "      <td>397924.000000</td>\n",
       "      <td>397924.000000</td>\n",
       "      <td>397924.000000</td>\n",
       "      <td>397924.000000</td>\n",
       "      <td>397924.000000</td>\n",
       "    </tr>\n",
       "    <tr>\n",
       "      <th>mean</th>\n",
       "      <td>278465.221859</td>\n",
       "      <td>560617.126645</td>\n",
       "      <td>2010.934259</td>\n",
       "      <td>7.612537</td>\n",
       "      <td>3.614555</td>\n",
       "      <td>12.728247</td>\n",
       "      <td>13.021823</td>\n",
       "      <td>3.116174</td>\n",
       "      <td>15294.315171</td>\n",
       "      <td>22.394749</td>\n",
       "    </tr>\n",
       "    <tr>\n",
       "      <th>std</th>\n",
       "      <td>152771.368303</td>\n",
       "      <td>13106.167695</td>\n",
       "      <td>0.247829</td>\n",
       "      <td>3.416527</td>\n",
       "      <td>1.928274</td>\n",
       "      <td>2.273535</td>\n",
       "      <td>180.420210</td>\n",
       "      <td>22.096788</td>\n",
       "      <td>1713.169877</td>\n",
       "      <td>309.055588</td>\n",
       "    </tr>\n",
       "    <tr>\n",
       "      <th>min</th>\n",
       "      <td>0.000000</td>\n",
       "      <td>536365.000000</td>\n",
       "      <td>2010.000000</td>\n",
       "      <td>1.000000</td>\n",
       "      <td>1.000000</td>\n",
       "      <td>6.000000</td>\n",
       "      <td>1.000000</td>\n",
       "      <td>0.000000</td>\n",
       "      <td>12346.000000</td>\n",
       "      <td>0.000000</td>\n",
       "    </tr>\n",
       "    <tr>\n",
       "      <th>25%</th>\n",
       "      <td>148333.750000</td>\n",
       "      <td>549234.000000</td>\n",
       "      <td>2011.000000</td>\n",
       "      <td>5.000000</td>\n",
       "      <td>2.000000</td>\n",
       "      <td>11.000000</td>\n",
       "      <td>2.000000</td>\n",
       "      <td>1.250000</td>\n",
       "      <td>13969.000000</td>\n",
       "      <td>4.680000</td>\n",
       "    </tr>\n",
       "    <tr>\n",
       "      <th>50%</th>\n",
       "      <td>284907.500000</td>\n",
       "      <td>561893.000000</td>\n",
       "      <td>2011.000000</td>\n",
       "      <td>8.000000</td>\n",
       "      <td>3.000000</td>\n",
       "      <td>13.000000</td>\n",
       "      <td>6.000000</td>\n",
       "      <td>1.950000</td>\n",
       "      <td>15159.000000</td>\n",
       "      <td>11.800000</td>\n",
       "    </tr>\n",
       "    <tr>\n",
       "      <th>75%</th>\n",
       "      <td>410079.250000</td>\n",
       "      <td>572090.000000</td>\n",
       "      <td>2011.000000</td>\n",
       "      <td>11.000000</td>\n",
       "      <td>5.000000</td>\n",
       "      <td>14.000000</td>\n",
       "      <td>12.000000</td>\n",
       "      <td>3.750000</td>\n",
       "      <td>16795.000000</td>\n",
       "      <td>19.800000</td>\n",
       "    </tr>\n",
       "    <tr>\n",
       "      <th>max</th>\n",
       "      <td>541908.000000</td>\n",
       "      <td>581587.000000</td>\n",
       "      <td>2011.000000</td>\n",
       "      <td>12.000000</td>\n",
       "      <td>7.000000</td>\n",
       "      <td>20.000000</td>\n",
       "      <td>80995.000000</td>\n",
       "      <td>8142.750000</td>\n",
       "      <td>18287.000000</td>\n",
       "      <td>168469.600000</td>\n",
       "    </tr>\n",
       "  </tbody>\n",
       "</table>\n",
       "</div>"
      ],
      "text/plain": [
       "          Unnamed: 0      InvoiceNo           year          month  \\\n",
       "count  397924.000000  397924.000000  397924.000000  397924.000000   \n",
       "mean   278465.221859  560617.126645    2010.934259       7.612537   \n",
       "std    152771.368303   13106.167695       0.247829       3.416527   \n",
       "min         0.000000  536365.000000    2010.000000       1.000000   \n",
       "25%    148333.750000  549234.000000    2011.000000       5.000000   \n",
       "50%    284907.500000  561893.000000    2011.000000       8.000000   \n",
       "75%    410079.250000  572090.000000    2011.000000      11.000000   \n",
       "max    541908.000000  581587.000000    2011.000000      12.000000   \n",
       "\n",
       "                 day           hour       Quantity      UnitPrice  \\\n",
       "count  397924.000000  397924.000000  397924.000000  397924.000000   \n",
       "mean        3.614555      12.728247      13.021823       3.116174   \n",
       "std         1.928274       2.273535     180.420210      22.096788   \n",
       "min         1.000000       6.000000       1.000000       0.000000   \n",
       "25%         2.000000      11.000000       2.000000       1.250000   \n",
       "50%         3.000000      13.000000       6.000000       1.950000   \n",
       "75%         5.000000      14.000000      12.000000       3.750000   \n",
       "max         7.000000      20.000000   80995.000000    8142.750000   \n",
       "\n",
       "          CustomerID   amount_spent  \n",
       "count  397924.000000  397924.000000  \n",
       "mean    15294.315171      22.394749  \n",
       "std      1713.169877     309.055588  \n",
       "min     12346.000000       0.000000  \n",
       "25%     13969.000000       4.680000  \n",
       "50%     15159.000000      11.800000  \n",
       "75%     16795.000000      19.800000  \n",
       "max     18287.000000  168469.600000  "
      ]
     },
     "execution_count": 69,
     "metadata": {},
     "output_type": "execute_result"
    }
   ],
   "source": [
    "orders.describe()"
   ]
  },
  {
   "cell_type": "markdown",
   "metadata": {},
   "source": [
    "####  What is the average Purchase Price?"
   ]
  },
  {
   "cell_type": "code",
   "execution_count": 70,
   "metadata": {},
   "outputs": [
    {
     "data": {
      "text/plain": [
       "3.1161744805540756"
      ]
     },
     "execution_count": 70,
     "metadata": {},
     "output_type": "execute_result"
    }
   ],
   "source": [
    "orders['UnitPrice'].mean()"
   ]
  },
  {
   "cell_type": "markdown",
   "metadata": {},
   "source": [
    "#### What were the highest and lowest purchase prices? "
   ]
  },
  {
   "cell_type": "code",
   "execution_count": 71,
   "metadata": {},
   "outputs": [
    {
     "data": {
      "text/plain": [
       "8142.75"
      ]
     },
     "execution_count": 71,
     "metadata": {},
     "output_type": "execute_result"
    }
   ],
   "source": [
    "orders['UnitPrice'].max()"
   ]
  },
  {
   "cell_type": "code",
   "execution_count": 72,
   "metadata": {},
   "outputs": [
    {
     "data": {
      "text/plain": [
       "0.0"
      ]
     },
     "execution_count": 72,
     "metadata": {},
     "output_type": "execute_result"
    }
   ],
   "source": [
    "orders['UnitPrice'].min()"
   ]
  },
  {
   "cell_type": "markdown",
   "metadata": {},
   "source": [
    "#### Select all the customers we have in Spain"
   ]
  },
  {
   "cell_type": "code",
   "execution_count": 81,
   "metadata": {},
   "outputs": [
    {
     "data": {
      "text/plain": [
       "array([12557, 17097, 12540, 12551, 12484, 12539, 12510, 12421, 12502,\n",
       "       12462, 12507, 12541, 12547, 12597, 12545, 12596, 12354, 12417,\n",
       "       12455, 12450, 12548, 12556, 12550, 12546, 12454, 12448, 12544,\n",
       "       12538, 12445, 12442])"
      ]
     },
     "execution_count": 81,
     "metadata": {},
     "output_type": "execute_result"
    }
   ],
   "source": [
    "Spain = orders[orders['Country'] == 'Spain']['CustomerID'].unique()\n",
    "Spain"
   ]
  },
  {
   "cell_type": "markdown",
   "metadata": {},
   "source": [
    "#### How many customers do we have in Spain?\n",
    "##### Hint : Use value_counts()"
   ]
  },
  {
   "cell_type": "code",
   "execution_count": 79,
   "metadata": {},
   "outputs": [
    {
     "data": {
      "text/plain": [
       "2485"
      ]
     },
     "execution_count": 79,
     "metadata": {},
     "output_type": "execute_result"
    }
   ],
   "source": [
    "len(Spain)"
   ]
  },
  {
   "cell_type": "markdown",
   "metadata": {},
   "source": [
    "#### Select all the customers who have bought more than 50 items ?"
   ]
  },
  {
   "cell_type": "code",
   "execution_count": 80,
   "metadata": {},
   "outputs": [
    {
     "data": {
      "text/plain": [
       "46        13748\n",
       "83        15291\n",
       "96        14688\n",
       "102       14688\n",
       "174       16029\n",
       "          ...  \n",
       "397720    18102\n",
       "397721    16626\n",
       "397729    16626\n",
       "397761    15311\n",
       "397882    13777\n",
       "Name: CustomerID, Length: 11609, dtype: int64"
      ]
     },
     "execution_count": 80,
     "metadata": {},
     "output_type": "execute_result"
    }
   ],
   "source": [
    "Customers_50 = orders[orders['Quantity']>50]\n",
    "Customers_50['CustomerID']"
   ]
  },
  {
   "cell_type": "markdown",
   "metadata": {},
   "source": [
    "#### Select orders from Spain that are above 50 items"
   ]
  },
  {
   "cell_type": "code",
   "execution_count": 170,
   "metadata": {},
   "outputs": [],
   "source": [
    "Spain_orders = orders[orders['Country'] == 'Spain']['Quantity']>50"
   ]
  },
  {
   "cell_type": "code",
   "execution_count": 169,
   "metadata": {},
   "outputs": [
    {
     "data": {
      "text/plain": [
       "[4250,\n",
       " 4251,\n",
       " 4252,\n",
       " 4253,\n",
       " 4254,\n",
       " 13974,\n",
       " 13975,\n",
       " 13976,\n",
       " 13977,\n",
       " 13978,\n",
       " 13979,\n",
       " 13980,\n",
       " 13981,\n",
       " 13982,\n",
       " 13983,\n",
       " 13984,\n",
       " 13985,\n",
       " 13986,\n",
       " 13987,\n",
       " 13988,\n",
       " 13989,\n",
       " 13990,\n",
       " 13991,\n",
       " 13992,\n",
       " 13993,\n",
       " 13994,\n",
       " 13995,\n",
       " 13996,\n",
       " 13997,\n",
       " 13998,\n",
       " 13999,\n",
       " 14000,\n",
       " 14001,\n",
       " 14002,\n",
       " 14003,\n",
       " 14004,\n",
       " 14005,\n",
       " 14006,\n",
       " 14007,\n",
       " 14008,\n",
       " 14009,\n",
       " 14010,\n",
       " 14011,\n",
       " 14012,\n",
       " 14013,\n",
       " 17368,\n",
       " 17369,\n",
       " 17370,\n",
       " 17371,\n",
       " 17372,\n",
       " 17373,\n",
       " 17374,\n",
       " 17375,\n",
       " 17376,\n",
       " 17377,\n",
       " 17378,\n",
       " 17379,\n",
       " 17380,\n",
       " 17381,\n",
       " 17382,\n",
       " 17383,\n",
       " 17384,\n",
       " 17385,\n",
       " 17386,\n",
       " 17387,\n",
       " 23288,\n",
       " 23289,\n",
       " 23290,\n",
       " 23291,\n",
       " 23292,\n",
       " 23293,\n",
       " 23294,\n",
       " 23295,\n",
       " 23296,\n",
       " 23297,\n",
       " 29804,\n",
       " 29805,\n",
       " 29806,\n",
       " 29807,\n",
       " 29808,\n",
       " 29809,\n",
       " 29810,\n",
       " 29811,\n",
       " 29812,\n",
       " 29813,\n",
       " 29814,\n",
       " 29815,\n",
       " 29816,\n",
       " 29817,\n",
       " 29818,\n",
       " 29819,\n",
       " 29820,\n",
       " 29821,\n",
       " 29822,\n",
       " 29823,\n",
       " 29824,\n",
       " 29825,\n",
       " 29826,\n",
       " 29827,\n",
       " 29828,\n",
       " 29829,\n",
       " 29830,\n",
       " 29831,\n",
       " 29832,\n",
       " 29833,\n",
       " 29834,\n",
       " 29835,\n",
       " 29836,\n",
       " 29837,\n",
       " 29838,\n",
       " 29839,\n",
       " 29840,\n",
       " 29841,\n",
       " 29842,\n",
       " 29843,\n",
       " 29844,\n",
       " 29845,\n",
       " 29846,\n",
       " 29847,\n",
       " 29848,\n",
       " 29849,\n",
       " 29850,\n",
       " 29851,\n",
       " 29852,\n",
       " 29853,\n",
       " 29854,\n",
       " 29855,\n",
       " 29856,\n",
       " 29857,\n",
       " 29858,\n",
       " 29859,\n",
       " 29860,\n",
       " 29861,\n",
       " 29862,\n",
       " 29863,\n",
       " 29864,\n",
       " 29865,\n",
       " 29866,\n",
       " 29867,\n",
       " 29868,\n",
       " 29869,\n",
       " 29870,\n",
       " 29871,\n",
       " 29872,\n",
       " 29873,\n",
       " 29874,\n",
       " 29875,\n",
       " 29876,\n",
       " 29877,\n",
       " 29878,\n",
       " 29879,\n",
       " 29880,\n",
       " 29881,\n",
       " 29882,\n",
       " 29883,\n",
       " 29884,\n",
       " 29885,\n",
       " 29886,\n",
       " 29887,\n",
       " 29888,\n",
       " 29889,\n",
       " 29890,\n",
       " 29891,\n",
       " 29892,\n",
       " 29893,\n",
       " 29894,\n",
       " 29895,\n",
       " 29896,\n",
       " 29897,\n",
       " 29898,\n",
       " 29899,\n",
       " 29900,\n",
       " 29901,\n",
       " 31390,\n",
       " 31391,\n",
       " 31392,\n",
       " 31393,\n",
       " 31394,\n",
       " 31395,\n",
       " 31396,\n",
       " 31397,\n",
       " 31398,\n",
       " 31399,\n",
       " 31400,\n",
       " 31401,\n",
       " 31402,\n",
       " 31403,\n",
       " 31404,\n",
       " 31405,\n",
       " 31406,\n",
       " 31407,\n",
       " 31408,\n",
       " 31409,\n",
       " 31410,\n",
       " 31411,\n",
       " 31412,\n",
       " 31413,\n",
       " 31414,\n",
       " 31415,\n",
       " 31416,\n",
       " 31417,\n",
       " 31418,\n",
       " 31419,\n",
       " 31420,\n",
       " 31421,\n",
       " 31422,\n",
       " 31423,\n",
       " 31424,\n",
       " 31425,\n",
       " 31426,\n",
       " 31427,\n",
       " 31428,\n",
       " 31429,\n",
       " 31430,\n",
       " 31431,\n",
       " 31432,\n",
       " 31433,\n",
       " 31434,\n",
       " 31435,\n",
       " 31436,\n",
       " 31437,\n",
       " 31438,\n",
       " 31439,\n",
       " 31440,\n",
       " 31441,\n",
       " 31442,\n",
       " 31443,\n",
       " 31444,\n",
       " 31445,\n",
       " 31446,\n",
       " 31447,\n",
       " 31448,\n",
       " 31449,\n",
       " 31450,\n",
       " 31451,\n",
       " 31452,\n",
       " 31453,\n",
       " 31454,\n",
       " 31455,\n",
       " 31456,\n",
       " 31457,\n",
       " 31458,\n",
       " 31459,\n",
       " 31460,\n",
       " 31461,\n",
       " 31462,\n",
       " 31463,\n",
       " 31464,\n",
       " 31465,\n",
       " 31466,\n",
       " 31467,\n",
       " 31468,\n",
       " 31469,\n",
       " 31470,\n",
       " 31471,\n",
       " 31472,\n",
       " 31473,\n",
       " 31474,\n",
       " 31475,\n",
       " 31476,\n",
       " 31477,\n",
       " 31478,\n",
       " 31479,\n",
       " 31480,\n",
       " 31481,\n",
       " 31482,\n",
       " 32454,\n",
       " 32455,\n",
       " 32456,\n",
       " 32457,\n",
       " 32568,\n",
       " 32569,\n",
       " 32570,\n",
       " 32571,\n",
       " 32572,\n",
       " 32573,\n",
       " 32574,\n",
       " 32575,\n",
       " 32576,\n",
       " 32577,\n",
       " 32578,\n",
       " 32579,\n",
       " 32580,\n",
       " 32581,\n",
       " 32582,\n",
       " 32583,\n",
       " 32584,\n",
       " 32585,\n",
       " 32586,\n",
       " 32587,\n",
       " 32588,\n",
       " 32589,\n",
       " 32590,\n",
       " 32591,\n",
       " 32592,\n",
       " 32593,\n",
       " 32594,\n",
       " 32595,\n",
       " 32596,\n",
       " 32597,\n",
       " 32598,\n",
       " 37428,\n",
       " 37429,\n",
       " 37430,\n",
       " 37431,\n",
       " 37432,\n",
       " 37433,\n",
       " 37434,\n",
       " 37435,\n",
       " 37436,\n",
       " 37437,\n",
       " 37438,\n",
       " 37439,\n",
       " 37440,\n",
       " 37441,\n",
       " 37442,\n",
       " 37443,\n",
       " 37444,\n",
       " 37445,\n",
       " 37446,\n",
       " 37447,\n",
       " 37448,\n",
       " 37449,\n",
       " 37450,\n",
       " 37451,\n",
       " 37452,\n",
       " 37453,\n",
       " 37454,\n",
       " 37455,\n",
       " 37456,\n",
       " 38131,\n",
       " 38132,\n",
       " 38133,\n",
       " 38134,\n",
       " 38135,\n",
       " 38136,\n",
       " 38137,\n",
       " 38138,\n",
       " 38139,\n",
       " 38140,\n",
       " 38141,\n",
       " 38142,\n",
       " 38143,\n",
       " 38144,\n",
       " 38145,\n",
       " 38146,\n",
       " 38147,\n",
       " 38148,\n",
       " 38149,\n",
       " 38150,\n",
       " 38151,\n",
       " 38152,\n",
       " 38153,\n",
       " 41390,\n",
       " 41391,\n",
       " 41392,\n",
       " 41393,\n",
       " 41394,\n",
       " 41395,\n",
       " 41396,\n",
       " 41397,\n",
       " 41398,\n",
       " 41399,\n",
       " 41400,\n",
       " 43996,\n",
       " 43997,\n",
       " 43998,\n",
       " 43999,\n",
       " 44000,\n",
       " 44001,\n",
       " 44002,\n",
       " 44003,\n",
       " 44004,\n",
       " 44005,\n",
       " 44006,\n",
       " 44007,\n",
       " 44008,\n",
       " 44009,\n",
       " 44010,\n",
       " 44011,\n",
       " 44012,\n",
       " 44013,\n",
       " 44014,\n",
       " 44015,\n",
       " 44016,\n",
       " 44017,\n",
       " 44018,\n",
       " 44019,\n",
       " 44020,\n",
       " 44021,\n",
       " 44022,\n",
       " 44023,\n",
       " 44024,\n",
       " 44025,\n",
       " 44026,\n",
       " 44027,\n",
       " 44028,\n",
       " 44029,\n",
       " 44030,\n",
       " 44031,\n",
       " 44032,\n",
       " 44033,\n",
       " 44034,\n",
       " 44035,\n",
       " 44036,\n",
       " 44037,\n",
       " 44038,\n",
       " 44039,\n",
       " 44040,\n",
       " 44041,\n",
       " 44042,\n",
       " 44043,\n",
       " 44044,\n",
       " 44045,\n",
       " 44046,\n",
       " 44047,\n",
       " 44048,\n",
       " 44049,\n",
       " 44050,\n",
       " 44051,\n",
       " 44052,\n",
       " 44053,\n",
       " 44054,\n",
       " 44055,\n",
       " 44056,\n",
       " 44057,\n",
       " 44058,\n",
       " 44059,\n",
       " 44060,\n",
       " 44061,\n",
       " 44062,\n",
       " 44063,\n",
       " 44064,\n",
       " 44065,\n",
       " 44066,\n",
       " 44067,\n",
       " 44068,\n",
       " 44069,\n",
       " 44070,\n",
       " 44071,\n",
       " 44072,\n",
       " 44073,\n",
       " 44074,\n",
       " 44075,\n",
       " 44076,\n",
       " 44077,\n",
       " 44078,\n",
       " 44079,\n",
       " 44080,\n",
       " 44081,\n",
       " 44082,\n",
       " 44083,\n",
       " 44084,\n",
       " 44085,\n",
       " 44086,\n",
       " 44087,\n",
       " 44088,\n",
       " 48534,\n",
       " 48535,\n",
       " 48536,\n",
       " 48537,\n",
       " 48538,\n",
       " 48539,\n",
       " 48540,\n",
       " 48541,\n",
       " 48542,\n",
       " 48543,\n",
       " 48544,\n",
       " 48545,\n",
       " 49687,\n",
       " 49688,\n",
       " 49689,\n",
       " 49690,\n",
       " 49691,\n",
       " 49692,\n",
       " 49693,\n",
       " 49694,\n",
       " 49695,\n",
       " 49696,\n",
       " 49697,\n",
       " 49698,\n",
       " 49699,\n",
       " 49700,\n",
       " 49701,\n",
       " 49702,\n",
       " 49703,\n",
       " 49704,\n",
       " 49705,\n",
       " 49706,\n",
       " 49707,\n",
       " 49708,\n",
       " 49709,\n",
       " 49710,\n",
       " 49711,\n",
       " 49712,\n",
       " 49713,\n",
       " 49714,\n",
       " 49715,\n",
       " 49716,\n",
       " 49717,\n",
       " 53374,\n",
       " 53375,\n",
       " 53376,\n",
       " 53377,\n",
       " 53378,\n",
       " 53379,\n",
       " 53380,\n",
       " 53381,\n",
       " 53382,\n",
       " 53383,\n",
       " 53384,\n",
       " 53385,\n",
       " 53386,\n",
       " 53387,\n",
       " 53388,\n",
       " 53389,\n",
       " 53390,\n",
       " 53391,\n",
       " 53392,\n",
       " 53393,\n",
       " 53394,\n",
       " 53395,\n",
       " 53396,\n",
       " 53397,\n",
       " 53398,\n",
       " 53399,\n",
       " 53400,\n",
       " 53401,\n",
       " 53402,\n",
       " 53403,\n",
       " 53404,\n",
       " 53405,\n",
       " 53406,\n",
       " 53407,\n",
       " 53408,\n",
       " 53409,\n",
       " 53410,\n",
       " 53411,\n",
       " 53412,\n",
       " 53413,\n",
       " 55336,\n",
       " 55337,\n",
       " 55338,\n",
       " 55339,\n",
       " 55340,\n",
       " 55341,\n",
       " 55342,\n",
       " 55343,\n",
       " 55344,\n",
       " 55345,\n",
       " 55346,\n",
       " 55347,\n",
       " 55348,\n",
       " 70307,\n",
       " 70308,\n",
       " 70309,\n",
       " 70310,\n",
       " 70311,\n",
       " 70312,\n",
       " 70313,\n",
       " 70314,\n",
       " 70315,\n",
       " 70316,\n",
       " 70317,\n",
       " 70318,\n",
       " 70319,\n",
       " 70320,\n",
       " 70321,\n",
       " 70322,\n",
       " 70323,\n",
       " 70657,\n",
       " 70658,\n",
       " 70659,\n",
       " 70660,\n",
       " 70661,\n",
       " 70662,\n",
       " 79732,\n",
       " 79733,\n",
       " 79734,\n",
       " 79735,\n",
       " 79736,\n",
       " 79737,\n",
       " 79738,\n",
       " 79739,\n",
       " 79740,\n",
       " 79741,\n",
       " 79742,\n",
       " 79743,\n",
       " 79744,\n",
       " 79745,\n",
       " 79746,\n",
       " 79747,\n",
       " 79748,\n",
       " 79749,\n",
       " 79750,\n",
       " 79751,\n",
       " 79752,\n",
       " 79753,\n",
       " 79754,\n",
       " 79755,\n",
       " 79756,\n",
       " 79757,\n",
       " 79758,\n",
       " 79759,\n",
       " 79760,\n",
       " 79761,\n",
       " 79762,\n",
       " 79781,\n",
       " 79782,\n",
       " 79783,\n",
       " 79784,\n",
       " 79785,\n",
       " 79786,\n",
       " 79787,\n",
       " 79788,\n",
       " 79789,\n",
       " 79790,\n",
       " 79791,\n",
       " 79792,\n",
       " 79793,\n",
       " 79794,\n",
       " 79795,\n",
       " 79796,\n",
       " 79797,\n",
       " 79798,\n",
       " 79799,\n",
       " 79800,\n",
       " 79801,\n",
       " 79802,\n",
       " 79803,\n",
       " 79804,\n",
       " 79805,\n",
       " 79806,\n",
       " 79807,\n",
       " 79808,\n",
       " 79809,\n",
       " 79810,\n",
       " 85453,\n",
       " 85454,\n",
       " 85455,\n",
       " 85456,\n",
       " 85457,\n",
       " 85458,\n",
       " 85459,\n",
       " 85460,\n",
       " 85461,\n",
       " 85462,\n",
       " 85463,\n",
       " 85464,\n",
       " 85465,\n",
       " 85466,\n",
       " 85467,\n",
       " 85468,\n",
       " 85469,\n",
       " 85470,\n",
       " 85471,\n",
       " 85472,\n",
       " 85473,\n",
       " 85474,\n",
       " 85475,\n",
       " 85476,\n",
       " 85477,\n",
       " 85478,\n",
       " 85479,\n",
       " 85480,\n",
       " 85481,\n",
       " 85482,\n",
       " 85483,\n",
       " 85484,\n",
       " 85485,\n",
       " 85486,\n",
       " 85487,\n",
       " 85488,\n",
       " 85489,\n",
       " 85490,\n",
       " 85491,\n",
       " 85492,\n",
       " 85493,\n",
       " 85494,\n",
       " 85495,\n",
       " 85496,\n",
       " 88009,\n",
       " 88010,\n",
       " 88011,\n",
       " 88012,\n",
       " 88013,\n",
       " 88014,\n",
       " 88015,\n",
       " 88016,\n",
       " 88017,\n",
       " 88018,\n",
       " 88019,\n",
       " 88020,\n",
       " 88021,\n",
       " 88022,\n",
       " 88023,\n",
       " 88024,\n",
       " 88025,\n",
       " 88026,\n",
       " 88027,\n",
       " 88028,\n",
       " 88029,\n",
       " 88030,\n",
       " 88031,\n",
       " 88032,\n",
       " 88033,\n",
       " 88034,\n",
       " 88035,\n",
       " 88036,\n",
       " 88037,\n",
       " 88038,\n",
       " 88039,\n",
       " 88040,\n",
       " 88041,\n",
       " 88042,\n",
       " 88639,\n",
       " 88640,\n",
       " 88641,\n",
       " 88642,\n",
       " 88643,\n",
       " 88644,\n",
       " 88645,\n",
       " 88646,\n",
       " 88647,\n",
       " 88648,\n",
       " 88649,\n",
       " 88650,\n",
       " 88651,\n",
       " 88652,\n",
       " 88653,\n",
       " 88654,\n",
       " 88655,\n",
       " 88656,\n",
       " 88657,\n",
       " 88658,\n",
       " 88659,\n",
       " 88660,\n",
       " 88661,\n",
       " 88662,\n",
       " 88663,\n",
       " 88664,\n",
       " 88665,\n",
       " 88666,\n",
       " 88667,\n",
       " 88668,\n",
       " 88669,\n",
       " 88670,\n",
       " 88671,\n",
       " 88672,\n",
       " 91155,\n",
       " 91156,\n",
       " 91157,\n",
       " 91158,\n",
       " 91159,\n",
       " 103106,\n",
       " 103107,\n",
       " 103108,\n",
       " 103109,\n",
       " 103110,\n",
       " 103111,\n",
       " 103112,\n",
       " 103113,\n",
       " 103114,\n",
       " 103115,\n",
       " 103116,\n",
       " 103117,\n",
       " 103118,\n",
       " 103119,\n",
       " 103120,\n",
       " 113099,\n",
       " 113100,\n",
       " 113101,\n",
       " 113102,\n",
       " 113103,\n",
       " 113104,\n",
       " 113105,\n",
       " 113106,\n",
       " 113107,\n",
       " 113108,\n",
       " 113109,\n",
       " 113110,\n",
       " 113111,\n",
       " 113112,\n",
       " 113113,\n",
       " 113114,\n",
       " 113115,\n",
       " 113116,\n",
       " 113117,\n",
       " 113118,\n",
       " 113119,\n",
       " 113120,\n",
       " 113121,\n",
       " 113122,\n",
       " 113123,\n",
       " 113124,\n",
       " 113125,\n",
       " 113126,\n",
       " 113127,\n",
       " 113128,\n",
       " 113129,\n",
       " 113130,\n",
       " 113131,\n",
       " 113132,\n",
       " 113133,\n",
       " 113134,\n",
       " 113135,\n",
       " 113136,\n",
       " 113137,\n",
       " 113138,\n",
       " 113139,\n",
       " 113140,\n",
       " 113141,\n",
       " 113142,\n",
       " 113143,\n",
       " 113144,\n",
       " 113145,\n",
       " 113146,\n",
       " 113147,\n",
       " 113148,\n",
       " 113149,\n",
       " 113150,\n",
       " 113151,\n",
       " 113152,\n",
       " 113153,\n",
       " 113154,\n",
       " 113155,\n",
       " 113156,\n",
       " 116553,\n",
       " 116554,\n",
       " 116555,\n",
       " 116556,\n",
       " 116557,\n",
       " 116558,\n",
       " 116559,\n",
       " 116560,\n",
       " 116561,\n",
       " 116562,\n",
       " 116563,\n",
       " 116564,\n",
       " 116565,\n",
       " 116566,\n",
       " 116567,\n",
       " 116568,\n",
       " 116569,\n",
       " 116570,\n",
       " 116571,\n",
       " 116572,\n",
       " 116573,\n",
       " 116574,\n",
       " 116575,\n",
       " 119617,\n",
       " 119618,\n",
       " 119619,\n",
       " 119620,\n",
       " 119621,\n",
       " 119622,\n",
       " 119623,\n",
       " 119624,\n",
       " 119625,\n",
       " 119626,\n",
       " 119627,\n",
       " 119628,\n",
       " 119629,\n",
       " 119630,\n",
       " 119631,\n",
       " 119632,\n",
       " 119633,\n",
       " 119634,\n",
       " 119635,\n",
       " 119636,\n",
       " 119637,\n",
       " 119638,\n",
       " 119639,\n",
       " 119640,\n",
       " 119641,\n",
       " 119642,\n",
       " 119643,\n",
       " 119644,\n",
       " 119645,\n",
       " 119646,\n",
       " 119647,\n",
       " 119648,\n",
       " 119649,\n",
       " 119650,\n",
       " 119651,\n",
       " 119652,\n",
       " 119653,\n",
       " 119654,\n",
       " 119655,\n",
       " 119656,\n",
       " 119657,\n",
       " 121118,\n",
       " 121119,\n",
       " 121120,\n",
       " 121121,\n",
       " 121122,\n",
       " 121123,\n",
       " 121124,\n",
       " 121125,\n",
       " 121126,\n",
       " 121127,\n",
       " 121128,\n",
       " 121129,\n",
       " 121130,\n",
       " 121131,\n",
       " 121132,\n",
       " 142472,\n",
       " 142473,\n",
       " 144896,\n",
       " 144897,\n",
       " 144898,\n",
       " 144899,\n",
       " 144900,\n",
       " 144901,\n",
       " 144902,\n",
       " 144903,\n",
       " 144904,\n",
       " 144905,\n",
       " 144906,\n",
       " 144907,\n",
       " 144908,\n",
       " 144909,\n",
       " 144910,\n",
       " 144911,\n",
       " 144912,\n",
       " 144913,\n",
       " 144914,\n",
       " 144915,\n",
       " 144916,\n",
       " 144917,\n",
       " 144918,\n",
       " 144919,\n",
       " 144920,\n",
       " 144921,\n",
       " 144922,\n",
       " 144923,\n",
       " 144924,\n",
       " 144925,\n",
       " 144926,\n",
       " 144927,\n",
       " 144928,\n",
       " 144929,\n",
       " 144930,\n",
       " 144931,\n",
       " 144932,\n",
       " 144933,\n",
       " 144934,\n",
       " 144935,\n",
       " 144936,\n",
       " 144937,\n",
       " 144938,\n",
       " 144939,\n",
       " 144940,\n",
       " 144941,\n",
       " 144942,\n",
       " 147386,\n",
       " 147387,\n",
       " 147388,\n",
       " 147389,\n",
       " 147390,\n",
       " 147391,\n",
       " 147392,\n",
       " 147393,\n",
       " 147394,\n",
       " 147395,\n",
       " 147396,\n",
       " 147397,\n",
       " 147398,\n",
       " 150332,\n",
       " 150333,\n",
       " 150334,\n",
       " 150335,\n",
       " 150336,\n",
       " 150337,\n",
       " 150338,\n",
       " 150339,\n",
       " 150340,\n",
       " 150341,\n",
       " 150342,\n",
       " 150343,\n",
       " 150344,\n",
       " 150345,\n",
       " 150346,\n",
       " 150347,\n",
       " 150348,\n",
       " 150349,\n",
       " 150350,\n",
       " 150351,\n",
       " 150352,\n",
       " 150353,\n",
       " 150354,\n",
       " 154249,\n",
       " 154250,\n",
       " 154251,\n",
       " 154252,\n",
       " 154253,\n",
       " 154254,\n",
       " 154255,\n",
       " 154256,\n",
       " 154257,\n",
       " ...]"
      ]
     },
     "execution_count": 169,
     "metadata": {},
     "output_type": "execute_result"
    }
   ],
   "source": [
    "#Son números de órdenes no clientes, por eso la lista es más larga que la de CustomerIDs\n",
    "Spain_orders_50 = Spain_orders.index.values.tolist()\n",
    "Spain_orders_50"
   ]
  },
  {
   "cell_type": "markdown",
   "metadata": {},
   "source": [
    "#### Select all free orders"
   ]
  },
  {
   "cell_type": "code",
   "execution_count": 89,
   "metadata": {},
   "outputs": [
    {
     "name": "stdout",
     "output_type": "stream",
     "text": [
      "Int64Index([  6914,  22539,  25379,  29080,  29082,  34494,  53788,  85671,\n",
      "             92875,  97430, 107192, 128641, 137127, 194648, 197173, 199711,\n",
      "            208950, 223931, 223932, 223933, 223934, 256263, 259399, 273926,\n",
      "            286507, 307092, 319882, 320049, 320407, 322279, 328385, 329006,\n",
      "            329007, 334242, 334243, 352746, 353097, 354170, 358629, 370473],\n",
      "           dtype='int64')\n"
     ]
    }
   ],
   "source": [
    "Free = orders[orders['amount_spent']== 0.000]\n",
    "print(Free.index)"
   ]
  },
  {
   "cell_type": "markdown",
   "metadata": {},
   "source": [
    "#### Select all orders that are 'lunch bag'\n",
    "#### Hint: Use string functions"
   ]
  },
  {
   "cell_type": "code",
   "execution_count": 194,
   "metadata": {},
   "outputs": [
    {
     "data": {
      "text/plain": [
       "11556"
      ]
     },
     "execution_count": 194,
     "metadata": {},
     "output_type": "execute_result"
    }
   ],
   "source": [
    "lunch = orders[orders['Description'].str.contains(\"lunch bag\")]\n",
    "lunch_orders = lunch.index.tolist() #lista del total de número de órdenes \n",
    "len(lunch_orders)\n",
    "#11556 órdenes de lunch bags"
   ]
  },
  {
   "cell_type": "markdown",
   "metadata": {},
   "source": [
    "#### Select all orders that are made in 2011 and are 'lunch bag'  "
   ]
  },
  {
   "cell_type": "code",
   "execution_count": 217,
   "metadata": {},
   "outputs": [
    {
     "data": {
      "text/plain": [
       "11234"
      ]
     },
     "execution_count": 217,
     "metadata": {},
     "output_type": "execute_result"
    }
   ],
   "source": [
    "year_2011= lunch[lunch['year']== 2011]\n",
    "orders_2011 = year_2011.index.tolist() #lista del total de órdenes realizadas en 2011\n",
    "len(orders_2011) #11234 órdenes realizadas en 2011"
   ]
  },
  {
   "cell_type": "markdown",
   "metadata": {},
   "source": [
    "#### Show the frequency distribution of the amount spent in Spain."
   ]
  },
  {
   "cell_type": "code",
   "execution_count": 222,
   "metadata": {},
   "outputs": [],
   "source": [
    "Spain = orders[orders['Country'] == 'Spain']"
   ]
  },
  {
   "cell_type": "code",
   "execution_count": 231,
   "metadata": {},
   "outputs": [],
   "source": [
    "Spain_amount= Spain[['amount_spent']]\n",
    "amount_spent= Spain_amount.value_counts()"
   ]
  },
  {
   "cell_type": "markdown",
   "metadata": {},
   "source": [
    "#### Select all orders made in the month of August"
   ]
  },
  {
   "cell_type": "code",
   "execution_count": 236,
   "metadata": {},
   "outputs": [
    {
     "data": {
      "text/plain": [
       "27013"
      ]
     },
     "execution_count": 236,
     "metadata": {},
     "output_type": "execute_result"
    }
   ],
   "source": [
    "Aug = orders[orders['month']==8]\n",
    "August = Aug.index.tolist() #lista de órdenes realizadas en agosto\n",
    "len(August) # total 27013 órdenes realizadas en agosto"
   ]
  },
  {
   "cell_type": "markdown",
   "metadata": {},
   "source": [
    "#### Select how many orders are made by countries in the month of August\n",
    "##### Hint: Use value_counts()"
   ]
  },
  {
   "cell_type": "code",
   "execution_count": 261,
   "metadata": {},
   "outputs": [
    {
     "data": {
      "text/html": [
       "<div>\n",
       "<style scoped>\n",
       "    .dataframe tbody tr th:only-of-type {\n",
       "        vertical-align: middle;\n",
       "    }\n",
       "\n",
       "    .dataframe tbody tr th {\n",
       "        vertical-align: top;\n",
       "    }\n",
       "\n",
       "    .dataframe thead th {\n",
       "        text-align: right;\n",
       "    }\n",
       "</style>\n",
       "<table border=\"1\" class=\"dataframe\">\n",
       "  <thead>\n",
       "    <tr style=\"text-align: right;\">\n",
       "      <th></th>\n",
       "      <th>Unnamed: 0</th>\n",
       "      <th>InvoiceNo</th>\n",
       "      <th>year</th>\n",
       "      <th>month</th>\n",
       "      <th>day</th>\n",
       "      <th>hour</th>\n",
       "      <th>Quantity</th>\n",
       "      <th>UnitPrice</th>\n",
       "      <th>CustomerID</th>\n",
       "      <th>amount_spent</th>\n",
       "    </tr>\n",
       "    <tr>\n",
       "      <th>Country</th>\n",
       "      <th></th>\n",
       "      <th></th>\n",
       "      <th></th>\n",
       "      <th></th>\n",
       "      <th></th>\n",
       "      <th></th>\n",
       "      <th></th>\n",
       "      <th></th>\n",
       "      <th></th>\n",
       "      <th></th>\n",
       "    </tr>\n",
       "  </thead>\n",
       "  <tbody>\n",
       "    <tr>\n",
       "      <th>Australia</th>\n",
       "      <td>32576265</td>\n",
       "      <td>60302348</td>\n",
       "      <td>215177</td>\n",
       "      <td>856</td>\n",
       "      <td>438</td>\n",
       "      <td>916</td>\n",
       "      <td>12570</td>\n",
       "      <td>242.98</td>\n",
       "      <td>1328565</td>\n",
       "      <td>22489.20</td>\n",
       "    </tr>\n",
       "    <tr>\n",
       "      <th>Austria</th>\n",
       "      <td>26212020</td>\n",
       "      <td>49543386</td>\n",
       "      <td>176968</td>\n",
       "      <td>704</td>\n",
       "      <td>208</td>\n",
       "      <td>880</td>\n",
       "      <td>790</td>\n",
       "      <td>279.71</td>\n",
       "      <td>1116970</td>\n",
       "      <td>1516.08</td>\n",
       "    </tr>\n",
       "    <tr>\n",
       "      <th>Belgium</th>\n",
       "      <td>58480484</td>\n",
       "      <td>109287235</td>\n",
       "      <td>390134</td>\n",
       "      <td>1552</td>\n",
       "      <td>739</td>\n",
       "      <td>2448</td>\n",
       "      <td>2069</td>\n",
       "      <td>726.14</td>\n",
       "      <td>2406584</td>\n",
       "      <td>3554.02</td>\n",
       "    </tr>\n",
       "    <tr>\n",
       "      <th>Canada</th>\n",
       "      <td>1564810</td>\n",
       "      <td>2822140</td>\n",
       "      <td>10055</td>\n",
       "      <td>40</td>\n",
       "      <td>20</td>\n",
       "      <td>55</td>\n",
       "      <td>52</td>\n",
       "      <td>4.99</td>\n",
       "      <td>89220</td>\n",
       "      <td>51.56</td>\n",
       "    </tr>\n",
       "    <tr>\n",
       "      <th>Channel Islands</th>\n",
       "      <td>43046490</td>\n",
       "      <td>78948531</td>\n",
       "      <td>281540</td>\n",
       "      <td>1120</td>\n",
       "      <td>287</td>\n",
       "      <td>1570</td>\n",
       "      <td>2009</td>\n",
       "      <td>626.19</td>\n",
       "      <td>2089177</td>\n",
       "      <td>4896.78</td>\n",
       "    </tr>\n",
       "    <tr>\n",
       "      <th>Denmark</th>\n",
       "      <td>4739080</td>\n",
       "      <td>9005648</td>\n",
       "      <td>32176</td>\n",
       "      <td>128</td>\n",
       "      <td>48</td>\n",
       "      <td>160</td>\n",
       "      <td>338</td>\n",
       "      <td>42.89</td>\n",
       "      <td>222704</td>\n",
       "      <td>213.15</td>\n",
       "    </tr>\n",
       "    <tr>\n",
       "      <th>EIRE</th>\n",
       "      <td>177784872</td>\n",
       "      <td>333975511</td>\n",
       "      <td>1192523</td>\n",
       "      <td>4744</td>\n",
       "      <td>2423</td>\n",
       "      <td>8087</td>\n",
       "      <td>9331</td>\n",
       "      <td>2123.92</td>\n",
       "      <td>8654983</td>\n",
       "      <td>16967.38</td>\n",
       "    </tr>\n",
       "    <tr>\n",
       "      <th>Finland</th>\n",
       "      <td>18366395</td>\n",
       "      <td>34362298</td>\n",
       "      <td>122671</td>\n",
       "      <td>488</td>\n",
       "      <td>264</td>\n",
       "      <td>618</td>\n",
       "      <td>693</td>\n",
       "      <td>283.84</td>\n",
       "      <td>768320</td>\n",
       "      <td>1376.50</td>\n",
       "    </tr>\n",
       "    <tr>\n",
       "      <th>France</th>\n",
       "      <td>174350986</td>\n",
       "      <td>320802556</td>\n",
       "      <td>1144259</td>\n",
       "      <td>4552</td>\n",
       "      <td>2200</td>\n",
       "      <td>6641</td>\n",
       "      <td>7958</td>\n",
       "      <td>1813.53</td>\n",
       "      <td>7191464</td>\n",
       "      <td>13810.96</td>\n",
       "    </tr>\n",
       "    <tr>\n",
       "      <th>Germany</th>\n",
       "      <td>241648824</td>\n",
       "      <td>448042055</td>\n",
       "      <td>1598745</td>\n",
       "      <td>6360</td>\n",
       "      <td>2299</td>\n",
       "      <td>9296</td>\n",
       "      <td>9641</td>\n",
       "      <td>2634.35</td>\n",
       "      <td>10023951</td>\n",
       "      <td>19220.77</td>\n",
       "    </tr>\n",
       "    <tr>\n",
       "      <th>Iceland</th>\n",
       "      <td>6305893</td>\n",
       "      <td>12364704</td>\n",
       "      <td>44242</td>\n",
       "      <td>176</td>\n",
       "      <td>44</td>\n",
       "      <td>176</td>\n",
       "      <td>277</td>\n",
       "      <td>68.24</td>\n",
       "      <td>271634</td>\n",
       "      <td>584.91</td>\n",
       "    </tr>\n",
       "    <tr>\n",
       "      <th>Israel</th>\n",
       "      <td>52118406</td>\n",
       "      <td>96377823</td>\n",
       "      <td>343881</td>\n",
       "      <td>1368</td>\n",
       "      <td>684</td>\n",
       "      <td>1368</td>\n",
       "      <td>3028</td>\n",
       "      <td>705.33</td>\n",
       "      <td>2169648</td>\n",
       "      <td>4873.81</td>\n",
       "    </tr>\n",
       "    <tr>\n",
       "      <th>Italy</th>\n",
       "      <td>28216943</td>\n",
       "      <td>53483788</td>\n",
       "      <td>191045</td>\n",
       "      <td>760</td>\n",
       "      <td>412</td>\n",
       "      <td>1243</td>\n",
       "      <td>1147</td>\n",
       "      <td>418.60</td>\n",
       "      <td>1197572</td>\n",
       "      <td>1990.95</td>\n",
       "    </tr>\n",
       "    <tr>\n",
       "      <th>Malta</th>\n",
       "      <td>16660440</td>\n",
       "      <td>30990245</td>\n",
       "      <td>110605</td>\n",
       "      <td>440</td>\n",
       "      <td>55</td>\n",
       "      <td>720</td>\n",
       "      <td>382</td>\n",
       "      <td>262.02</td>\n",
       "      <td>874880</td>\n",
       "      <td>1119.00</td>\n",
       "    </tr>\n",
       "    <tr>\n",
       "      <th>Netherlands</th>\n",
       "      <td>84098593</td>\n",
       "      <td>157706087</td>\n",
       "      <td>563080</td>\n",
       "      <td>2240</td>\n",
       "      <td>957</td>\n",
       "      <td>4036</td>\n",
       "      <td>29876</td>\n",
       "      <td>606.32</td>\n",
       "      <td>4100880</td>\n",
       "      <td>40327.81</td>\n",
       "    </tr>\n",
       "    <tr>\n",
       "      <th>Norway</th>\n",
       "      <td>23007868</td>\n",
       "      <td>43354860</td>\n",
       "      <td>154847</td>\n",
       "      <td>616</td>\n",
       "      <td>355</td>\n",
       "      <td>678</td>\n",
       "      <td>636</td>\n",
       "      <td>408.56</td>\n",
       "      <td>954282</td>\n",
       "      <td>2025.81</td>\n",
       "    </tr>\n",
       "    <tr>\n",
       "      <th>Poland</th>\n",
       "      <td>4957309</td>\n",
       "      <td>9561588</td>\n",
       "      <td>34187</td>\n",
       "      <td>136</td>\n",
       "      <td>49</td>\n",
       "      <td>159</td>\n",
       "      <td>186</td>\n",
       "      <td>111.09</td>\n",
       "      <td>216878</td>\n",
       "      <td>401.80</td>\n",
       "    </tr>\n",
       "    <tr>\n",
       "      <th>Portugal</th>\n",
       "      <td>12346289</td>\n",
       "      <td>23092881</td>\n",
       "      <td>82451</td>\n",
       "      <td>328</td>\n",
       "      <td>41</td>\n",
       "      <td>410</td>\n",
       "      <td>1026</td>\n",
       "      <td>51.56</td>\n",
       "      <td>523078</td>\n",
       "      <td>1221.40</td>\n",
       "    </tr>\n",
       "    <tr>\n",
       "      <th>Spain</th>\n",
       "      <td>77870827</td>\n",
       "      <td>142145994</td>\n",
       "      <td>506772</td>\n",
       "      <td>2016</td>\n",
       "      <td>1242</td>\n",
       "      <td>3135</td>\n",
       "      <td>1600</td>\n",
       "      <td>884.53</td>\n",
       "      <td>3441928</td>\n",
       "      <td>3346.91</td>\n",
       "    </tr>\n",
       "    <tr>\n",
       "      <th>Sweden</th>\n",
       "      <td>12251415</td>\n",
       "      <td>22552569</td>\n",
       "      <td>80440</td>\n",
       "      <td>320</td>\n",
       "      <td>119</td>\n",
       "      <td>538</td>\n",
       "      <td>1314</td>\n",
       "      <td>232.25</td>\n",
       "      <td>521693</td>\n",
       "      <td>1400.86</td>\n",
       "    </tr>\n",
       "    <tr>\n",
       "      <th>Switzerland</th>\n",
       "      <td>77414300</td>\n",
       "      <td>150136126</td>\n",
       "      <td>536937</td>\n",
       "      <td>2136</td>\n",
       "      <td>650</td>\n",
       "      <td>2718</td>\n",
       "      <td>2998</td>\n",
       "      <td>886.76</td>\n",
       "      <td>3306370</td>\n",
       "      <td>4969.89</td>\n",
       "    </tr>\n",
       "    <tr>\n",
       "      <th>United Kingdom</th>\n",
       "      <td>6981551222</td>\n",
       "      <td>13017736942</td>\n",
       "      <td>46464155</td>\n",
       "      <td>184840</td>\n",
       "      <td>80566</td>\n",
       "      <td>298250</td>\n",
       "      <td>310832</td>\n",
       "      <td>65863.52</td>\n",
       "      <td>360358912</td>\n",
       "      <td>498453.32</td>\n",
       "    </tr>\n",
       "    <tr>\n",
       "      <th>Unspecified</th>\n",
       "      <td>7099053</td>\n",
       "      <td>12972445</td>\n",
       "      <td>46253</td>\n",
       "      <td>184</td>\n",
       "      <td>23</td>\n",
       "      <td>278</td>\n",
       "      <td>185</td>\n",
       "      <td>146.51</td>\n",
       "      <td>314781</td>\n",
       "      <td>531.03</td>\n",
       "    </tr>\n",
       "  </tbody>\n",
       "</table>\n",
       "</div>"
      ],
      "text/plain": [
       "                 Unnamed: 0    InvoiceNo      year   month    day    hour  \\\n",
       "Country                                                                     \n",
       "Australia          32576265     60302348    215177     856    438     916   \n",
       "Austria            26212020     49543386    176968     704    208     880   \n",
       "Belgium            58480484    109287235    390134    1552    739    2448   \n",
       "Canada              1564810      2822140     10055      40     20      55   \n",
       "Channel Islands    43046490     78948531    281540    1120    287    1570   \n",
       "Denmark             4739080      9005648     32176     128     48     160   \n",
       "EIRE              177784872    333975511   1192523    4744   2423    8087   \n",
       "Finland            18366395     34362298    122671     488    264     618   \n",
       "France            174350986    320802556   1144259    4552   2200    6641   \n",
       "Germany           241648824    448042055   1598745    6360   2299    9296   \n",
       "Iceland             6305893     12364704     44242     176     44     176   \n",
       "Israel             52118406     96377823    343881    1368    684    1368   \n",
       "Italy              28216943     53483788    191045     760    412    1243   \n",
       "Malta              16660440     30990245    110605     440     55     720   \n",
       "Netherlands        84098593    157706087    563080    2240    957    4036   \n",
       "Norway             23007868     43354860    154847     616    355     678   \n",
       "Poland              4957309      9561588     34187     136     49     159   \n",
       "Portugal           12346289     23092881     82451     328     41     410   \n",
       "Spain              77870827    142145994    506772    2016   1242    3135   \n",
       "Sweden             12251415     22552569     80440     320    119     538   \n",
       "Switzerland        77414300    150136126    536937    2136    650    2718   \n",
       "United Kingdom   6981551222  13017736942  46464155  184840  80566  298250   \n",
       "Unspecified         7099053     12972445     46253     184     23     278   \n",
       "\n",
       "                 Quantity  UnitPrice  CustomerID  amount_spent  \n",
       "Country                                                         \n",
       "Australia           12570     242.98     1328565      22489.20  \n",
       "Austria               790     279.71     1116970       1516.08  \n",
       "Belgium              2069     726.14     2406584       3554.02  \n",
       "Canada                 52       4.99       89220         51.56  \n",
       "Channel Islands      2009     626.19     2089177       4896.78  \n",
       "Denmark               338      42.89      222704        213.15  \n",
       "EIRE                 9331    2123.92     8654983      16967.38  \n",
       "Finland               693     283.84      768320       1376.50  \n",
       "France               7958    1813.53     7191464      13810.96  \n",
       "Germany              9641    2634.35    10023951      19220.77  \n",
       "Iceland               277      68.24      271634        584.91  \n",
       "Israel               3028     705.33     2169648       4873.81  \n",
       "Italy                1147     418.60     1197572       1990.95  \n",
       "Malta                 382     262.02      874880       1119.00  \n",
       "Netherlands         29876     606.32     4100880      40327.81  \n",
       "Norway                636     408.56      954282       2025.81  \n",
       "Poland                186     111.09      216878        401.80  \n",
       "Portugal             1026      51.56      523078       1221.40  \n",
       "Spain                1600     884.53     3441928       3346.91  \n",
       "Sweden               1314     232.25      521693       1400.86  \n",
       "Switzerland          2998     886.76     3306370       4969.89  \n",
       "United Kingdom     310832   65863.52   360358912     498453.32  \n",
       "Unspecified           185     146.51      314781        531.03  "
      ]
     },
     "execution_count": 261,
     "metadata": {},
     "output_type": "execute_result"
    }
   ],
   "source": [
    "Countries_August = Aug.groupby(by=['Country']).sum()\n",
    "Countries_August"
   ]
  },
  {
   "cell_type": "markdown",
   "metadata": {},
   "source": [
    "#### What's the  average amount of money spent by country"
   ]
  },
  {
   "cell_type": "code",
   "execution_count": 275,
   "metadata": {},
   "outputs": [
    {
     "data": {
      "text/html": [
       "<div>\n",
       "<style scoped>\n",
       "    .dataframe tbody tr th:only-of-type {\n",
       "        vertical-align: middle;\n",
       "    }\n",
       "\n",
       "    .dataframe tbody tr th {\n",
       "        vertical-align: top;\n",
       "    }\n",
       "\n",
       "    .dataframe thead th {\n",
       "        text-align: right;\n",
       "    }\n",
       "</style>\n",
       "<table border=\"1\" class=\"dataframe\">\n",
       "  <thead>\n",
       "    <tr style=\"text-align: right;\">\n",
       "      <th></th>\n",
       "      <th>amount_spent</th>\n",
       "    </tr>\n",
       "    <tr>\n",
       "      <th>Country</th>\n",
       "      <th></th>\n",
       "    </tr>\n",
       "  </thead>\n",
       "  <tbody>\n",
       "    <tr>\n",
       "      <th>Australia</th>\n",
       "      <td>116.895620</td>\n",
       "    </tr>\n",
       "    <tr>\n",
       "      <th>Austria</th>\n",
       "      <td>25.624824</td>\n",
       "    </tr>\n",
       "    <tr>\n",
       "      <th>Bahrain</th>\n",
       "      <td>32.258824</td>\n",
       "    </tr>\n",
       "    <tr>\n",
       "      <th>Belgium</th>\n",
       "      <td>20.283772</td>\n",
       "    </tr>\n",
       "    <tr>\n",
       "      <th>Brazil</th>\n",
       "      <td>35.737500</td>\n",
       "    </tr>\n",
       "    <tr>\n",
       "      <th>Canada</th>\n",
       "      <td>24.280662</td>\n",
       "    </tr>\n",
       "    <tr>\n",
       "      <th>Channel Islands</th>\n",
       "      <td>27.340160</td>\n",
       "    </tr>\n",
       "    <tr>\n",
       "      <th>Cyprus</th>\n",
       "      <td>22.134169</td>\n",
       "    </tr>\n",
       "    <tr>\n",
       "      <th>Czech Republic</th>\n",
       "      <td>33.069600</td>\n",
       "    </tr>\n",
       "    <tr>\n",
       "      <th>Denmark</th>\n",
       "      <td>49.882474</td>\n",
       "    </tr>\n",
       "    <tr>\n",
       "      <th>EIRE</th>\n",
       "      <td>36.687745</td>\n",
       "    </tr>\n",
       "    <tr>\n",
       "      <th>European Community</th>\n",
       "      <td>21.670833</td>\n",
       "    </tr>\n",
       "    <tr>\n",
       "      <th>Finland</th>\n",
       "      <td>32.913985</td>\n",
       "    </tr>\n",
       "    <tr>\n",
       "      <th>France</th>\n",
       "      <td>25.056827</td>\n",
       "    </tr>\n",
       "    <tr>\n",
       "      <th>Germany</th>\n",
       "      <td>25.311562</td>\n",
       "    </tr>\n",
       "    <tr>\n",
       "      <th>Greece</th>\n",
       "      <td>32.831172</td>\n",
       "    </tr>\n",
       "    <tr>\n",
       "      <th>Iceland</th>\n",
       "      <td>23.681319</td>\n",
       "    </tr>\n",
       "    <tr>\n",
       "      <th>Israel</th>\n",
       "      <td>29.119718</td>\n",
       "    </tr>\n",
       "    <tr>\n",
       "      <th>Italy</th>\n",
       "      <td>23.064960</td>\n",
       "    </tr>\n",
       "    <tr>\n",
       "      <th>Japan</th>\n",
       "      <td>116.561900</td>\n",
       "    </tr>\n",
       "    <tr>\n",
       "      <th>Lebanon</th>\n",
       "      <td>37.641778</td>\n",
       "    </tr>\n",
       "    <tr>\n",
       "      <th>Lithuania</th>\n",
       "      <td>47.458857</td>\n",
       "    </tr>\n",
       "    <tr>\n",
       "      <th>Malta</th>\n",
       "      <td>24.335625</td>\n",
       "    </tr>\n",
       "    <tr>\n",
       "      <th>Netherlands</th>\n",
       "      <td>120.798282</td>\n",
       "    </tr>\n",
       "    <tr>\n",
       "      <th>Norway</th>\n",
       "      <td>33.736418</td>\n",
       "    </tr>\n",
       "    <tr>\n",
       "      <th>Poland</th>\n",
       "      <td>22.226212</td>\n",
       "    </tr>\n",
       "    <tr>\n",
       "      <th>Portugal</th>\n",
       "      <td>22.872702</td>\n",
       "    </tr>\n",
       "    <tr>\n",
       "      <th>RSA</th>\n",
       "      <td>17.281207</td>\n",
       "    </tr>\n",
       "    <tr>\n",
       "      <th>Saudi Arabia</th>\n",
       "      <td>16.213333</td>\n",
       "    </tr>\n",
       "    <tr>\n",
       "      <th>Singapore</th>\n",
       "      <td>95.852658</td>\n",
       "    </tr>\n",
       "    <tr>\n",
       "      <th>Spain</th>\n",
       "      <td>24.779521</td>\n",
       "    </tr>\n",
       "    <tr>\n",
       "      <th>Sweden</th>\n",
       "      <td>85.096075</td>\n",
       "    </tr>\n",
       "    <tr>\n",
       "      <th>Switzerland</th>\n",
       "      <td>30.642752</td>\n",
       "    </tr>\n",
       "    <tr>\n",
       "      <th>USA</th>\n",
       "      <td>20.002179</td>\n",
       "    </tr>\n",
       "    <tr>\n",
       "      <th>United Arab Emirates</th>\n",
       "      <td>27.974706</td>\n",
       "    </tr>\n",
       "    <tr>\n",
       "      <th>United Kingdom</th>\n",
       "      <td>20.625073</td>\n",
       "    </tr>\n",
       "    <tr>\n",
       "      <th>Unspecified</th>\n",
       "      <td>10.930615</td>\n",
       "    </tr>\n",
       "  </tbody>\n",
       "</table>\n",
       "</div>"
      ],
      "text/plain": [
       "                      amount_spent\n",
       "Country                           \n",
       "Australia               116.895620\n",
       "Austria                  25.624824\n",
       "Bahrain                  32.258824\n",
       "Belgium                  20.283772\n",
       "Brazil                   35.737500\n",
       "Canada                   24.280662\n",
       "Channel Islands          27.340160\n",
       "Cyprus                   22.134169\n",
       "Czech Republic           33.069600\n",
       "Denmark                  49.882474\n",
       "EIRE                     36.687745\n",
       "European Community       21.670833\n",
       "Finland                  32.913985\n",
       "France                   25.056827\n",
       "Germany                  25.311562\n",
       "Greece                   32.831172\n",
       "Iceland                  23.681319\n",
       "Israel                   29.119718\n",
       "Italy                    23.064960\n",
       "Japan                   116.561900\n",
       "Lebanon                  37.641778\n",
       "Lithuania                47.458857\n",
       "Malta                    24.335625\n",
       "Netherlands             120.798282\n",
       "Norway                   33.736418\n",
       "Poland                   22.226212\n",
       "Portugal                 22.872702\n",
       "RSA                      17.281207\n",
       "Saudi Arabia             16.213333\n",
       "Singapore                95.852658\n",
       "Spain                    24.779521\n",
       "Sweden                   85.096075\n",
       "Switzerland              30.642752\n",
       "USA                      20.002179\n",
       "United Arab Emirates     27.974706\n",
       "United Kingdom           20.625073\n",
       "Unspecified              10.930615"
      ]
     },
     "execution_count": 275,
     "metadata": {},
     "output_type": "execute_result"
    }
   ],
   "source": [
    "money_count = orders[['Country', 'amount_spent']]\n",
    "money_country= money_count.groupby(by=['Country']).mean()\n",
    "money_country"
   ]
  },
  {
   "cell_type": "markdown",
   "metadata": {},
   "source": [
    "#### What's the most expensive item?"
   ]
  },
  {
   "cell_type": "code",
   "execution_count": 287,
   "metadata": {},
   "outputs": [
    {
     "data": {
      "text/html": [
       "<div>\n",
       "<style scoped>\n",
       "    .dataframe tbody tr th:only-of-type {\n",
       "        vertical-align: middle;\n",
       "    }\n",
       "\n",
       "    .dataframe tbody tr th {\n",
       "        vertical-align: top;\n",
       "    }\n",
       "\n",
       "    .dataframe thead th {\n",
       "        text-align: right;\n",
       "    }\n",
       "</style>\n",
       "<table border=\"1\" class=\"dataframe\">\n",
       "  <thead>\n",
       "    <tr style=\"text-align: right;\">\n",
       "      <th></th>\n",
       "      <th>Description</th>\n",
       "      <th>UnitPrice</th>\n",
       "    </tr>\n",
       "  </thead>\n",
       "  <tbody>\n",
       "    <tr>\n",
       "      <th>113624</th>\n",
       "      <td>zinc wire sweetheart letter tray</td>\n",
       "      <td>3.75</td>\n",
       "    </tr>\n",
       "  </tbody>\n",
       "</table>\n",
       "</div>"
      ],
      "text/plain": [
       "                             Description  UnitPrice\n",
       "113624  zinc wire sweetheart letter tray       3.75"
      ]
     },
     "execution_count": 287,
     "metadata": {},
     "output_type": "execute_result"
    }
   ],
   "source": [
    "Units = orders[['Description', 'UnitPrice']]\n",
    "Units_prices= Units.sort_values(by=['Description','UnitPrice'], ascending=False)\n",
    "Units_prices.head(1)"
   ]
  },
  {
   "cell_type": "markdown",
   "metadata": {},
   "source": [
    "#### What was the average amount spent per year ?"
   ]
  },
  {
   "cell_type": "code",
   "execution_count": 304,
   "metadata": {},
   "outputs": [
    {
     "data": {
      "text/html": [
       "<div>\n",
       "<style scoped>\n",
       "    .dataframe tbody tr th:only-of-type {\n",
       "        vertical-align: middle;\n",
       "    }\n",
       "\n",
       "    .dataframe tbody tr th {\n",
       "        vertical-align: top;\n",
       "    }\n",
       "\n",
       "    .dataframe thead th {\n",
       "        text-align: right;\n",
       "    }\n",
       "</style>\n",
       "<table border=\"1\" class=\"dataframe\">\n",
       "  <thead>\n",
       "    <tr style=\"text-align: right;\">\n",
       "      <th></th>\n",
       "      <th>amount_spent</th>\n",
       "    </tr>\n",
       "    <tr>\n",
       "      <th>year</th>\n",
       "      <th></th>\n",
       "    </tr>\n",
       "  </thead>\n",
       "  <tbody>\n",
       "    <tr>\n",
       "      <th>2010</th>\n",
       "      <td>21.892733</td>\n",
       "    </tr>\n",
       "    <tr>\n",
       "      <th>2011</th>\n",
       "      <td>22.430074</td>\n",
       "    </tr>\n",
       "  </tbody>\n",
       "</table>\n",
       "</div>"
      ],
      "text/plain": [
       "      amount_spent\n",
       "year              \n",
       "2010     21.892733\n",
       "2011     22.430074"
      ]
     },
     "execution_count": 304,
     "metadata": {},
     "output_type": "execute_result"
    }
   ],
   "source": [
    "peryear= orders[['year','amount_spent']]\n",
    "avg_peryear= peryear.groupby(by=['year']).mean()\n",
    "avg_peryear"
   ]
  },
  {
   "cell_type": "code",
   "execution_count": null,
   "metadata": {},
   "outputs": [],
   "source": [
    "#DONE (: !!"
   ]
  }
 ],
 "metadata": {
  "anaconda-cloud": {},
  "kernelspec": {
   "display_name": "Python 3",
   "language": "python",
   "name": "python3"
  },
  "language_info": {
   "codemirror_mode": {
    "name": "ipython",
    "version": 3
   },
   "file_extension": ".py",
   "mimetype": "text/x-python",
   "name": "python",
   "nbconvert_exporter": "python",
   "pygments_lexer": "ipython3",
   "version": "3.8.5"
  }
 },
 "nbformat": 4,
 "nbformat_minor": 1
}
